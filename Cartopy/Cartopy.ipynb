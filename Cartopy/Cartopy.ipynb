{
 "cells": [
  {
   "cell_type": "markdown",
   "metadata": {},
   "source": [
    "\n",
    "<table>\n",
    "    <tr>\n",
    "        <td><img src='https://coastalrisk.live/wp-content/uploads/2018/05/cera_50x50.png' alt='Image' width='50' height=50'></td>\n",
    "        <td><h1 align=\"left\"><font color='green'>Geospatial Data Visualization: Introduction to Cartopy </font></h1></td>\n",
    "    </tr>\n",
    "</table>\n"
   ]
  },
  {
   "cell_type": "code",
   "execution_count": null,
   "metadata": {},
   "outputs": [],
   "source": [
    "# Copyright (C): Carola Kaiser 2014-2024, Louisiana State University. \n",
    "# This script is part of the Coastal Emergency Risks Assessment (CERA), a real-time visualization system for storm surge guidance.\n",
    "# See https://cera.coastalrisk.live. This CERA script is Open Source software; distributed under the MIT License."
   ]
  },
  {
   "cell_type": "markdown",
   "metadata": {},
   "source": [
    "# Table of Contents\n",
    "\n",
    "- [Part 1: Software installation and data preparation](#part-1-software-installation-and-data-preparation)\n",
    "  - [1.1 - Software installation](#11---software-installation)\n",
    "    - [1.1.1 Installing Jupyter Notebook](#111-installing-jupyter-notebook)\n",
    "    - [1.1.2 Installing the Python libraries](#112-installing-the-python-libraries)\n",
    "  - [1.2 - Tutorial example csv file](#12---tutorial-example-csv-file)\n",
    "  - [1.3 - Importing the Python libraries](#13---importing-the-python-libraries)\n",
    "- [Part 2: Map Visualization](#part-2-map-visualization)\n",
    "  - [2.1 - Understanding the Matplotlib Plot Structure](#21---understanding-the-matplotlib-plot-structure)\n",
    "  - [2.2 - Creating a basic map with Cartopy](#22---creating-a-basic-map-with-cartopy)\n",
    "  - [2.3 - Adding a background image and customizing the coastline feature](#23---adding-a-background-image-and-customizing-the-coastline-feature)\n",
    "  - [2.4 - Creating a regional map](#24---ccreating-a-regional-map)\n",
    "  - [2.5 - Enriching the Map](#25---enriching-the-map)\n",
    "  - [2.6 - Finalizing an example map](#26---finalizing-an-example-map)\n",
    "- [Part 3: How to get data on the map](#part-3-how-to-get-data-on-the-map)\n",
    "  - [3.1 - Importing the CSV file](#31---importing-the-csv-file)\n",
    "  - [3.2 - Exploring the Pandas data frame](#32---exploring-the-pandas-data-frame)\n",
    "  - [3.3 - Mapping the point data](#33---mapping-the-point-data)\n",
    "  - [3.4 - Adding the points to the background map](#34---adding-the-points-to-the-background-map)\n",
    "  - [3.5 - Limiting the map extent to the area of interest and adding point labels](#35---limit-the-map--extent-to-the-area-of-interest-and-add-point-labels)\n",
    "- [Part 4: Extra interactive map](#part-4-extra-interactive-map)\n",
    "  - [4.1 - Defining the map and the parameters](#41---defining-the-map-and-the-parameters)\n",
    "  - [4.2 - Generating the interactive map](#42---generating-the-interactive-map)\n",
    "\n",
    "<br>\n",
    "Note: If you are running through Google Colab, please use the table of contents from the top left corner."
   ]
  },
  {
   "cell_type": "markdown",
   "metadata": {},
   "source": [
    "# Part 1: Introduction\n",
    "\n",
    "Cartopy is a Python package designed for geospatial data processing for producing maps and other geospatial data analyses. Cartopy makes use of powerful Python libraries like NumPy, Shapely, and PROJ for numerical data handling, dealing with geometric objects, and cartographic transformations. The library includes a programmatic interface built on top of Matplotlib for the creation of high quality maps."
   ]
  },
  {
   "cell_type": "markdown",
   "metadata": {},
   "source": [
    "## 1.1 - Software Installation"
   ]
  },
  {
   "cell_type": "markdown",
   "metadata": {},
   "source": [
    "### Standalone Python Script\n",
    "\n",
    "If you prefer to run the tutorial examples using a command-line or terminal, you can use the Python standalone script 'cera_cartopy.py'. The following libraries should be installed: \n",
    "\n",
    "- `cartopy`: This library provides cartographic tools for python. It is used for creating maps and adding geographic features.\n",
    "- `matplotlib`: This is a plotting library for Python. It is used for creating static, animated, and interactive visualizations in Python.\n",
    "- `numpy`: This library is used for numerical operations in Python.\n",
    "- `pandas`: This library is used for data manipulation and analysis in Python.<br><br>\n",
    "<hr>"
   ]
  },
  {
   "cell_type": "markdown",
   "metadata": {},
   "source": [
    "### 1.1.1 Installing Jupyter Notebook\n",
    "\n",
    "The Jupyter notebook can be installed in several ways. Please choose accordingly to your system requirements and personal preference. \n",
    "\n",
    "- [Installing the classic Jupyter Notebook interface](https://docs.jupyter.org/en/latest/install/notebook-classic.html)\n",
    "- [Installing the JupyterLab](https://jupyterlab.readthedocs.io/en/stable/getting_started/installation.html)\n"
   ]
  },
  {
   "cell_type": "markdown",
   "metadata": {},
   "source": [
    "\n",
    "#### Our prefered way of working is using [Viusal Studio Code](https://code.visualstudio.com/download).\n",
    "The general instruction are [here](https://code.visualstudio.com/docs/datascience/jupyter-notebooks) using the extension provided by Microsoft [Jupyter](https://marketplace.visualstudio.com/items?itemName=ms-toolsai.jupyter).\n",
    "\n",
    "- Pick the prefered package manager / environment manager (conda or venv).\n",
    "- Open the folder that contains the jupyter notebook file (ipynb) in vscode.\n",
    "- From the top right corner select the kernel for this specific jupyter notebook as created in the previous step."
   ]
  },
  {
   "cell_type": "markdown",
   "metadata": {
    "slideshow": {
     "slide_type": "slide"
    }
   },
   "source": [
    "### 1.1.2 Installing the Python libraries\n",
    "\n",
    "*** Note: This tutorial was tested with Python 3.12, Cartopy 0.23, Matplotlib 3.8.4, Numpy 1.26.4, and ipywidgets 8.1.2.\n",
    "\n",
    "- `cartopy` is a Python package designed for geospatial data processing in order to produce maps and other geospatial data analyses. It makes use of the powerful PROJ.4, NumPy and Shapely libraries and includes a programmatic interface built on top of Matplotlib for the creation of publication quality maps.\n",
    "- `matplotlib` is a plotting library for Python for creating static, animated, and interactive visualizations in Python.\n",
    "- `numpy` is a Python library that provides support for large, multi-dimensional arrays and matrices, along with a large collection of high-level mathematical functions to operate on these arrays.\n",
    "\n",
    "- `pandas` is a powerful data manipulation library in Python. It provides data structures and functions needed to manipulate structured data, including functionality for manipulating numerical tables and time series data.\n",
    "\n",
    "- `ipywidgets` are interactive HTML widgets for Jupyter notebooks and the IPython kernel. Notebooks come alive when interactive widgets are used. Users gain control of their data and can visualize changes in the data.\n",
    "\n",
    "*** Note: The `ipywidgets` library is optional and only needed for the last part of the notebook."
   ]
  },
  {
   "cell_type": "code",
   "execution_count": null,
   "metadata": {},
   "outputs": [],
   "source": [
    "#First, we need to install the Python libraries\n",
    "!pip install cartopy\n",
    "!pip install matplotlib\n",
    "!pip install numpy\n",
    "!pip install pandas\n",
    "#optional only for the last part of the notebook\n",
    "!pip install ipywidgets"
   ]
  },
  {
   "cell_type": "markdown",
   "metadata": {},
   "source": [
    "## 1.2 - Tutorial example csv file\n",
    "In our exercise, we will use a point data file in the comma-separated text format (csv) that contains three water level stations.\n",
    "If you do not have the 'wget' tool installed, you can download the file by adding the URL in a web browser.\n"
   ]
  },
  {
   "cell_type": "code",
   "execution_count": null,
   "metadata": {},
   "outputs": [],
   "source": [
    "!wget https://cloud.cera.lsu.edu/s/6qamYSWn2FarbLP/download/water_level_stations.csv"
   ]
  },
  {
   "cell_type": "markdown",
   "metadata": {},
   "source": [
    "## 1.3 - Importing the Python libraries"
   ]
  },
  {
   "cell_type": "code",
   "execution_count": null,
   "metadata": {
    "slideshow": {
     "slide_type": "fragment"
    }
   },
   "outputs": [],
   "source": [
    "\"\"\"\n",
    "This script demonstrates the usage of Cartopy and Matplotlib libraries for data visualization.\n",
    "\n",
    "The script imports the necessary libraries, including Cartopy, Matplotlib, and numpy, for data handling and visualization.\n",
    "It also sets up the necessary configurations and filters out warnings for the purpose of this tutorial.\n",
    "\"\"\"\n",
    "\n",
    "# Cartopy/Matplotlib libraries\n",
    "import cartopy.feature as cfeature\n",
    "import cartopy.crs as ccrs\n",
    "import matplotlib.pyplot as plt\n",
    "import matplotlib.image as image\n",
    "from matplotlib.offsetbox import (AnnotationBbox, OffsetImage, TextArea)\n",
    "\n",
    "# libraries for data handling\n",
    "import numpy as np\n",
    "import netCDF4\n",
    "import pandas as pd\n",
    "\n",
    "# libraries for url image fetching \n",
    "import urllib.request\n",
    "from PIL import Image\n",
    "\n",
    "# For the purposes of this tutorial, we'll be ignoring warnings from functions\n",
    "import warnings\n",
    "warnings.filterwarnings('ignore')\n",
    "\n",
    "# widgets library\n",
    "import ipywidgets \n",
    "from ipywidgets import Layout, interact, IntSlider, FloatSlider"
   ]
  },
  {
   "cell_type": "markdown",
   "metadata": {},
   "source": [
    "# Part 2: Map Visualization"
   ]
  },
  {
   "cell_type": "markdown",
   "metadata": {},
   "source": [
    "## 2.1 - Understanding the Matplotlib Plot Structure\n",
    "Cartopy works with the Python Matplolib library. In order to make the most out of Cartopy, it is useful to have a general understanding of the Matplotlib/PypPlot graphics structure.\n",
    "\n",
    "A Matplotlib plot can be configured in several ways, depending on the complexity of the final plot. In this tutorial, we will use a basic single plot.\n",
    "\n",
    "### Basic elements of a Matplotlib plot\n",
    "The outermost container of a Matplotlib graphics is called Figure. A figure holds several sub-elements like the data visualization area (Axes), titles, colorbars etc. \n",
    "\n",
    "When we draw a plot using Matplotlib Pyplot, a Figure object is generated (shown in red).\n",
    "An Axes object is generated within the Figure object, including the x and y-axis (shown in green).\n",
    "The “axes” object holds all objects with plotting methods like graphs or contouring results. The surrounding “figure” defines the final image and additionally contains elements like the colorbar.\n",
    "\n",
    "For one plot (without any customization), the “ax” and “fig” can be seen as identical.\n",
    "\n",
    "<p><img src=\"https://cloud.cera.lsu.edu/s/kktwmeN9k927eiH/download/fig_ax.png\" width=\"400\"></p>"
   ]
  },
  {
   "cell_type": "markdown",
   "metadata": {},
   "source": [
    "## 2.2 - Creating a basic map with Cartopy"
   ]
  },
  {
   "cell_type": "markdown",
   "metadata": {},
   "source": [
    "Creating a basic map is an easy step: We simply tell Matplotlib to use a specific map projection and add some coastlines to the map.\n",
    "\n",
    "- The Cartopy `map projections` are stored in the module `cartopy.crs` that we have imported with the alias name `ccrs`. \n",
    "\n",
    "    Cartopy supports several cartographic projections like Mercator, PlateCarree, LambertConformal, AlbersEqualArea, Orthographic, Mollweide, and more. A list of all available projections can be found on the Cartopy [projection](https://scitools.org.uk/cartopy/docs/v0.15/crs/projections.html#cartopy-projections) list page.\n",
    "- The Cartopy `feature` interface allows to add pre-defined Natural Earth datasets, like coastlines, ocean, land, etc. We have imported the module `cartopy.feature` with the alias name `cfeature`. \n",
    "\n",
    "    When adding the coastline feature without any arguments, Cartopy will add the Natural Earth 1:110,000,000 scale coastline data to the map. A full list of supported features can be found on the Cartopy [feature](https://scitools.org.uk/cartopy/docs/latest/matplotlib/feature_interface.html) list page."
   ]
  },
  {
   "cell_type": "code",
   "execution_count": null,
   "metadata": {},
   "outputs": [],
   "source": [
    "# set the map projection\n",
    "ax = plt.axes(projection=ccrs.PlateCarree()) \n",
    "\n",
    "# add the coastline feature\n",
    "ax.add_feature(cfeature.COASTLINE)\n",
    "\n",
    "plt.show()"
   ]
  },
  {
   "cell_type": "markdown",
   "metadata": {},
   "source": [
    "\n",
    "The first line of code is creating a map with the Plate Carrée projection (also known as Equirectangular projection or Geographic projection). This projection maps meridians to vertical straight lines of constant spacing, and circles of latitude to horizontal straight lines of constant spacing. The result is a 'grid' where the gridlines are equally spaced apart. This is stored in the variable `ax`.\n",
    "\n",
    "The second line of code is adding a coastline feature to the map. This will draw the outline of continents and major islands on the map."
   ]
  },
  {
   "cell_type": "markdown",
   "metadata": {},
   "source": [
    "The same map in the Mollweide projection with the center of the map set to North/South America."
   ]
  },
  {
   "cell_type": "code",
   "execution_count": null,
   "metadata": {},
   "outputs": [],
   "source": [
    "ax = plt.axes(projection=ccrs.Mollweide(central_longitude=-90))\n",
    "ax.add_feature(cfeature.COASTLINE)\n",
    "plt.show()"
   ]
  },
  {
   "cell_type": "markdown",
   "metadata": {
    "slideshow": {
     "slide_type": "slide"
    }
   },
   "source": [
    "## 2.3 - Adding a background image and customizing the coastline feature"
   ]
  },
  {
   "cell_type": "markdown",
   "metadata": {},
   "source": [
    "We can use the stock_img() method to add an underlaying image to the map that shows some terrain and seafloor information.\n",
    "\n",
    "The overlaid coastline can be customized in many ways, e.g. by adding \n",
    "- a line style (like 'dotted', 'dashed' etc.)\n",
    "- a line width (with 1 being the default value)\n",
    "- a color (hexadecimal color code like '#FF0000', color name 'red', or short annotation 'r')\n",
    "\n",
    "For full information of styling options, please use the Matplotlib documentation."
   ]
  },
  {
   "cell_type": "code",
   "execution_count": null,
   "metadata": {
    "slideshow": {
     "slide_type": "fragment"
    }
   },
   "outputs": [],
   "source": [
    "# set the map projection\n",
    "ax = plt.axes(projection=ccrs.PlateCarree())\n",
    "\n",
    "# add the coastline feature and customize its style\n",
    "ax.add_feature(cfeature.COASTLINE, linestyle='dotted', linewidth=1.2, color='red')\n",
    "\n",
    "# add a background map image\n",
    "ax.stock_img()\n",
    "\n",
    "plt.show()"
   ]
  },
  {
   "cell_type": "markdown",
   "metadata": {},
   "source": [
    "The second line in the code is adding a coastline feature with a customized style. As an example, we are using dotted line style, a line width of 1.2, and a red color. This will draw the outline of continents and major islands on the map in a red, dotted line.\n",
    "\n",
    "The third line of code is adding a background map image. The `ax.stock_img()` function call is adding a low-resolution Natural Earth background image to the map. This will give the map a more realistic appearance."
   ]
  },
  {
   "cell_type": "markdown",
   "metadata": {
    "slideshow": {
     "slide_type": "slide"
    }
   },
   "source": [
    "## 2.4 - Creating a regional map\n",
    "In order to create a regional map, we use the Cartopy `set_extent` method to limit the size of the region. \n",
    "\n",
    "Additionally, we can increase the `resolution` of the displayed coastline. Supported values are '110m' (default), '50m', '10m'."
   ]
  },
  {
   "cell_type": "code",
   "execution_count": null,
   "metadata": {
    "slideshow": {
     "slide_type": "subslide"
    }
   },
   "outputs": [],
   "source": [
    "# set the map projection\n",
    "ax = plt.axes(projection=ccrs.PlateCarree())\n",
    "\n",
    "# assign a bounding box as map extent\n",
    "ax.set_extent([-45, -120, 5, 50])\n",
    "\n",
    "# set a higher resolution for the coastline\n",
    "ax.add_feature(cfeature.COASTLINE.with_scale('50m'))\n",
    "\n",
    "plt.show()"
   ]
  },
  {
   "cell_type": "markdown",
   "metadata": {},
   "source": [
    "The second line of code is setting the extent of the map to the coordinate ranges -45 to -120 on the x-axis (longitude) and 5 to 50 on the y-axis (latitude). This will limit the map to only show the area within these coordinates.\n",
    "\n",
    "The third line of code is adding a coastline feature to the map with a resolution of 50 meters. This will draw the outline of continents and major islands on the map with a higher level of detail."
   ]
  },
  {
   "cell_type": "markdown",
   "metadata": {
    "slideshow": {
     "slide_type": "slide"
    }
   },
   "source": [
    "## 2.5 - Enriching the Map"
   ]
  },
  {
   "cell_type": "markdown",
   "metadata": {},
   "source": [
    "Next, we can add some some more built-in Natural Earth features. As with the coastline, Cartopy uses default colors and line styles that can later be customized. For consistency of the features, we will apply the same resolution to all features."
   ]
  },
  {
   "cell_type": "code",
   "execution_count": null,
   "metadata": {
    "slideshow": {
     "slide_type": "fragment"
    }
   },
   "outputs": [],
   "source": [
    "# set the map projection and map extent\n",
    "ax = plt.axes(projection=ccrs.PlateCarree())\n",
    "ax.set_extent([-45, -120, 5, 50])\n",
    "\n",
    "# add features\n",
    "ax.add_feature(cfeature.COASTLINE.with_scale('50m'))\n",
    "ax.add_feature(cfeature.OCEAN.with_scale('50m'))\n",
    "ax.add_feature(cfeature.LAND.with_scale('50m'))\n",
    "#ax.add_feature(cfeature.STATES.with_scale('50m')) # U.S. state borders\n",
    "ax.add_feature(cfeature.LAKES.with_scale('50m'))\n",
    "ax.add_feature(cfeature.RIVERS.with_scale('50m'))\n",
    "#ax.add_feature(cfeature.BORDERS.with_scale('50m')) # country borders\n",
    "\n",
    "plt.show()"
   ]
  },
  {
   "cell_type": "markdown",
   "metadata": {},
   "source": [
    "The `add_feature` method adds various features to the map. In our case, we have specified a resolution of 50 meters. The features being added are:\n",
    "\n",
    "- Coastline: This will draw the outline of continents and major islands on the map with a higher level of detail.\n",
    "- Ocean: This will color the ocean areas on the map.\n",
    "- Land: This will color the land areas on the map.\n",
    "- Lakes: This will draw the major lakes on the map.\n",
    "- Rivers: This will draw the major rivers on the map.\n",
    "\n",
    "The lines of code that are commented out would add U.S. state borders and country borders to the map if they were uncommented."
   ]
  },
  {
   "cell_type": "markdown",
   "metadata": {},
   "source": [
    "## 2.6 - Finalizing an example map\n",
    "For the final map, we will customize the map size, change the styles of the added features, add grid lines and coordinate labels, and set a map title."
   ]
  },
  {
   "cell_type": "code",
   "execution_count": null,
   "metadata": {},
   "outputs": [],
   "source": [
    "# The plt.figure object is the Matplotlib container that holds all inner elements, including the plotting area (map).\n",
    "plt.figure(figsize=(12,6)) # width, height (inches)\n",
    "\n",
    "# set the map projection and map extent\n",
    "ax = plt.axes(projection=ccrs.PlateCarree())\n",
    "ax.set_extent([-45, -120, 5, 50])\n",
    "\n",
    "# add features and customize their style\n",
    "ax.add_feature(cfeature.COASTLINE.with_scale('50m'), linewidth=.6)\n",
    "ax.add_feature(cfeature.OCEAN.with_scale('50m'), color='#EDFBFF')\n",
    "ax.add_feature(cfeature.LAND.with_scale('50m'), color='#FBF5EA')\n",
    "ax.add_feature(cfeature.LAKES.with_scale('50m'), color='#EDFBFF')\n",
    "ax.add_feature(cfeature.STATES.with_scale('50m'), linewidth=.5)\n",
    "\n",
    "# show grid lines and labels, hide the lables on the top and right of the map (which are also drawn by Matplotlib by default)\n",
    "gls = ax.gridlines(draw_labels=True, linestyle='dotted', color='black')\n",
    "gls.top_labels=False   # suppress top labels\n",
    "gls.right_labels=False # suppress right labels\n",
    "\n",
    "# add a map title\n",
    "ax.set_title('Background Map')\n",
    "\n",
    "plt.show()"
   ]
  },
  {
   "cell_type": "markdown",
   "metadata": {},
   "source": [
    "\n",
    "The first line of code is creating a new figure object with a specified size. The `plt.figure(figsize=(12,6))` function call is creating a new figure object with a width of 12 inches and a height of 6 inches. This figure object is the container that holds all elements of the plot, including the plotting area (map).\n",
    "\n",
    "The next two lines of code are setting the map projection and extent. The `plt.axes(projection=ccrs.PlateCarree())` function call is setting the map projection to Plate Carrée. The `ax.set_extent([-45, -120, 5, 50])` function call is setting the map extent to the coordinates -45 to -120 on the x-axis (longitude) and 5 to 50 on the y-axis (latitude).\n",
    "\n",
    "The following lines of code are adding various features to the map and customizing their styles. The `ax.add_feature(cfeature.<FEATURE>.with_scale('50m'), <STYLE>)` function calls are adding the specified features to the map with a resolution of 50 meters and the specified styles. The features being added are:\n",
    "\n",
    "- Coastline: This will draw the outline of continents and major islands on the map with a line width of 0.6.\n",
    "- Ocean: This will color the ocean areas on the map with the color '#EDFBFF'.\n",
    "- Land: This will color the land areas on the map with the color '#FBF5EA'.\n",
    "- Lakes: This will draw the major lakes on the map with the color '#EDFBFF'.\n",
    "- States: This will draw the U.S. state borders on the map with a line width of 0.5.\n",
    "\n",
    "The next lines of code are adding gridlines and labels to the map and suppressing the labels on the top and right of the map. The `ax.gridlines(draw_labels=True, linestyle='dotted', color='black')` function call is adding gridlines to the map with labels, a dotted line style, and a black color. The `gls.top_labels=False` and `gls.right_labels=False` lines of code are suppressing the labels on the top and right of the map.\n",
    "\n",
    "The next line of code is setting the title of the map. The `ax.set_title('Background Map')` function call is setting the title of the map to 'Background Map'."
   ]
  },
  {
   "cell_type": "markdown",
   "metadata": {},
   "source": [
    "# Part 3: How to get data on the map\n",
    "\n",
    "As an example, we will use the comma-separated text file with three water level stations that we previously fetched. The file contains the station ID and the coordinates (lat/lon) of each point.\n",
    "\n",
    "| station_id | lat       | lon        |\n",
    "|------------|-----------|------------|\n",
    "| 8760721    | 29.179306 | -89.258833 |\n",
    "| 8670870    | 32.034694 | -80.903028 |\n",
    "| 02251800   | 27.754473 | -80.427552 |"
   ]
  },
  {
   "cell_type": "markdown",
   "metadata": {},
   "source": [
    "## 3.1 - Importing the CSV file\n",
    "\n",
    "A csv file can be opened and read with different methods. For exploring and handling our data we will use the library `pandas` which is a powerful Python data analysis and manipulation tool. We have imported the pandas library with the alias name `pd`.\n",
    "\n",
    "Pandas converts the input data to a DataFrame which is a two-dimensional, heterogeneous tabular data format (rows/columns). The commonly practiced designation for a pandas variable name is `df_<some name>`, where `df` stands for DataFrame. However you can name your variable in any other way, too.\n"
   ]
  },
  {
   "cell_type": "code",
   "execution_count": null,
   "metadata": {},
   "outputs": [],
   "source": [
    "# read the csv input file\n",
    "df_stations = pd.read_csv('water_level_stations.csv')"
   ]
  },
  {
   "cell_type": "markdown",
   "metadata": {},
   "source": [
    "## 3.2 - Exploring the Pandas data frame"
   ]
  },
  {
   "cell_type": "code",
   "execution_count": null,
   "metadata": {},
   "outputs": [],
   "source": [
    "# get a general print of the contained data\n",
    "df_stations.info()"
   ]
  },
  {
   "cell_type": "markdown",
   "metadata": {},
   "source": [
    "This is the output of the `info()` method called on a pandas DataFrame object. The `info()` method provides a concise summary of the DataFrame. Here's what each part of the output means:\n",
    "\n",
    "- `<class 'pandas.core.frame.DataFrame'>`: This is the type of the object, which is a pandas DataFrame.\n",
    "\n",
    "- `RangeIndex: 3 entries, 0 to 2`: This is the index of the DataFrame. It's a RangeIndex, which is a type of index that is a pure integer-based index. The DataFrame has 3 entries (rows) numbered from 0 to 2.\n",
    "\n",
    "- `Data columns (total 3 columns)`: This indicates that the DataFrame has a total of 3 columns.\n",
    "\n",
    "- The next three lines are a summary of each column in the DataFrame:\n",
    "\n",
    "  - `#   Column      Non-Null Count  Dtype`: This is the header of the column summary. It shows the column number (#), the column name (Column), the number of non-null values in the column (Non-Null Count), and the data type of the column (Dtype).\n",
    "  \n",
    "  - `0   station_id  3 non-null      int64`: This is the summary for the first column (column number 0). The column name is 'station_id', it has 3 non-null values, and the data type is int64 (64-bit integer).\n",
    "  \n",
    "  - `1   lat         3 non-null      float64`: This is the summary for the second column (column number 1). The column name is 'lat', it has 3 non-null values, and the data type is float64 (64-bit floating point number).\n",
    "  \n",
    "  - `2   lon         3 non-null      float64`: This is the summary for the third column (column number 2). The column name is 'lon', it has 3 non-null values, and the data type is float64.\n",
    "\n",
    "- `dtypes: float64(2), int64(1)`: This is a summary of the data types in the DataFrame. There are 2 columns with the float64 data type and 1 column with the int64 data type.\n",
    "\n",
    "- `memory usage: 204.0 bytes`: This is the amount of memory used by the DataFrame."
   ]
  },
  {
   "cell_type": "markdown",
   "metadata": {},
   "source": [
    "## 3.3 - Mapping the point data"
   ]
  },
  {
   "cell_type": "markdown",
   "metadata": {},
   "source": [
    "In order to map the points with Cartopy/Matplotlib, we need to assign the lon/lat values that belong to each station. We therefore access the two colums in the pandas DataFrame that hold the longitude and latitude values.\n",
    " - `[:]` retrieves all values in the data set. \n",
    " - The returned values are by default `Numpy arrays`, so we can directly use them for the Matplotlib plot."
   ]
  },
  {
   "cell_type": "code",
   "execution_count": null,
   "metadata": {},
   "outputs": [],
   "source": [
    "# retrieve the lon/lat values\n",
    "lon = df_stations['lon'][:]\n",
    "lat = df_stations['lat'][:]\n",
    "\n",
    "# we can use the Matplotlb 'plot' or 'scatter' function to draw the coordinate pairs as points\n",
    "plt.plot(lon, lat, marker='o', linewidth=0)\n",
    "\n",
    "plt.show()"
   ]
  },
  {
   "cell_type": "markdown",
   "metadata": {},
   "source": [
    "The function `plt.plot()` draws the coordiante pairs (lon/lat) as markers (points) on the map. the marker style is a circle designated as 'o'. Matplotlib connects the points with a line by default. We are hiding the line by setting the line width to '0'."
   ]
  },
  {
   "cell_type": "markdown",
   "metadata": {},
   "source": [
    "## 3.4 - Adding the points to the background map"
   ]
  },
  {
   "cell_type": "code",
   "execution_count": null,
   "metadata": {},
   "outputs": [],
   "source": [
    "# The plt.figure object is the Matplotlib container that holds all inner elements, including the plotting area (map).\n",
    "# set the plot (figure) size\n",
    "plt.figure(figsize=(12,6)) # width, height (inches)\n",
    "\n",
    "# set the map projection and map extent\n",
    "ax = plt.axes(projection=ccrs.PlateCarree())\n",
    "ax.set_extent([-45, -120, 5, 50])\n",
    "\n",
    "# add features and customize their style\n",
    "ax.add_feature(cfeature.COASTLINE.with_scale('50m'), linewidth=.6)\n",
    "ax.add_feature(cfeature.OCEAN.with_scale('50m'), color='#EDFBFF')\n",
    "ax.add_feature(cfeature.LAND.with_scale('50m'), color='#FBF5EA')\n",
    "ax.add_feature(cfeature.LAKES.with_scale('50m'), color='#EDFBFF')\n",
    "ax.add_feature(cfeature.STATES.with_scale('50m'), linewidth=.5)\n",
    "\n",
    "# show grid lines and labels, hide the labels on the top and right of the map (which are drawn by Matplotlib by default)\n",
    "gls = ax.gridlines(draw_labels=True, linestyle='dotted', color='black')\n",
    "gls.top_labels=False   # suppress top labels\n",
    "gls.right_labels=False # suppress right labels\n",
    "\n",
    "# add a map title\n",
    "ax.set_title('Background map with water level stations')\n",
    "\n",
    "# we can use the Matplotlb 'plot' or 'scatter' function to draw the coordinate pairs as points\n",
    "# draw the points as red circles and with a larger size\n",
    "plt.plot(lon, lat, color='r', marker='o', markersize=10, linewidth=0)\n",
    "#plt.scatter(lon, lat, color='r', marker='o', edgecolors='k', s=120, alpha=1.0)\n",
    "\n",
    "plt.show()"
   ]
  },
  {
   "cell_type": "markdown",
   "metadata": {},
   "source": [
    "We use our background map as customized in the previous steps. We then simply draw the points on top of the map by calling the `plt.plot()` function. In this example, we are using a red color (color='r') and a larger point size (markersize=10)."
   ]
  },
  {
   "cell_type": "markdown",
   "metadata": {},
   "source": [
    "## 3.5 - Limiting the map  extent to the area of interest and adding point labels\n",
    "\n",
    "If we want to dynamically limit our map to the region that contains the water level stations (points), we can do so by using the Matplotlib function `xlim/ylim`. We won't need to set a map extent in that case.\n",
    "\n",
    "Finally, we will increase the resolution of our background map features to '10m', add labels to our points showing the station ID for each station, and annotate the map with a logo and a text. Note: If you are using a static map (with always the same map extent), you can also add the logo/text to the background map."
   ]
  },
  {
   "cell_type": "code",
   "execution_count": null,
   "metadata": {},
   "outputs": [],
   "source": [
    "# The plt.figure object is the Matplotlib container that holds all inner elements, including the plotting area (map).\n",
    "# set the plot (figure) size\n",
    "plt.figure(figsize=(12,6)) # width, height (inches)\n",
    "# set the map projection and map extent\n",
    "ax = plt.axes(projection=ccrs.PlateCarree())\n",
    "\n",
    "# add features and customize their style\n",
    "ax.add_feature(cfeature.COASTLINE.with_scale('10m'), linewidth=.6)\n",
    "ax.add_feature(cfeature.OCEAN.with_scale('10m'), color='#EDFBFF')\n",
    "ax.add_feature(cfeature.LAND.with_scale('10m'), color='#FBF5EA')\n",
    "ax.add_feature(cfeature.LAKES.with_scale('10m'), color='#EDFBFF')\n",
    "ax.add_feature(cfeature.STATES.with_scale('10m'), linewidth=.5)\n",
    "\n",
    "# show grid lines and labels, hide the lables on the top and right of the map (which are drawn by Matplotlib by default)\n",
    "gls = ax.gridlines(draw_labels=True, linestyle='dotted', color='black')\n",
    "gls.top_labels=False   # suppress top labels\n",
    "gls.right_labels=False # suppress right labels\n",
    "\n",
    "# add a map title\n",
    "ax.set_title('Background map with water level stations')\n",
    "\n",
    "\n",
    "# draw the points as red circles and with a larger size\n",
    "plt.plot(lon, lat, color='r', marker='o', markersize=10, linewidth=0)\n",
    "\n",
    "# add labels with the station ID; move the labels to the right so that they do not overlap the marker icon\n",
    "station_id = df_stations['station_id'][:]\n",
    "for i, txt in enumerate(station_id):\n",
    "  ax.annotate(txt, (lon[i]+0.2, lat[i]))\n",
    "\n",
    "# limit the extent to the bounding box of the data points and apply some offsets to each side\n",
    "plt.xlim((lon.min()-1, lon.max()+1))\n",
    "plt.ylim((lat.min()-1, lat.max()+1))\n",
    "\n",
    "\n",
    "# add a logo and annotation text\n",
    "# create an imagebox that holds the image and sets the zoom level\n",
    "with urllib.request.urlopen('https://coastalrisk.live/wp-content/uploads/2018/05/cera_50x50.png') as url:\n",
    "    logo = np.array(Image.open(url))\n",
    "imagebox = OffsetImage(logo, zoom = 0.5)\n",
    "# create annotation containers that hold the logo and text, use map coordinates for positioning the top-left corner of the boxes\n",
    "ab_img = AnnotationBbox(imagebox, (lon.min()-0.6,lat.max()+0.6), bboxprops =dict(edgecolor='None'), frameon=False)\n",
    "ab_text = AnnotationBbox(TextArea(\"cera.coastalrisk.live\"), (lon.min()+0.75,lat.max()+0.6)) \n",
    "# draw the annotation boxes\n",
    "ax.add_artist(ab_img)\n",
    "ax.add_artist(ab_text)\n",
    "\n",
    "\n",
    "plt.show()"
   ]
  },
  {
   "cell_type": "markdown",
   "metadata": {},
   "source": [
    "For creating the labels, we are fetching the column `station_id` from the pandas dataframe. We are then assigning the individual 'station_id' values as variable `txt` to each station by looping through all stations and getting the `lon/lat` values. We are also adding a small padding (0.2 in map coordinates) to move the labels to the right so that they do not overlap with the marker icon.\n",
    "\n",
    "For details on how to add logos/annotations to the plot, plese refer to the Matplotlib documentation."
   ]
  },
  {
   "cell_type": "markdown",
   "metadata": {},
   "source": [
    "# Part 4: Extra interactive map"
   ]
  },
  {
   "cell_type": "markdown",
   "metadata": {},
   "source": [
    "## 4.1 - Defining the map and the parameters"
   ]
  },
  {
   "cell_type": "code",
   "execution_count": null,
   "metadata": {},
   "outputs": [],
   "source": [
    "def plot_map(lon_center=-90.0, lat_center=20.0, distance=34.0):\n",
    "    plt.figure(figsize=(18,12)) # width, height (inches)\n",
    "    ax = plt.axes(projection=ccrs.PlateCarree())\n",
    "    ax.add_feature(cfeature.COASTLINE.with_scale('10m'), linewidth=.6)\n",
    "    ax.add_feature(cfeature.OCEAN.with_scale('10m'))\n",
    "    ax.add_feature(cfeature.LAND.with_scale('10m'), color='#FBF5EA')\n",
    "    ax.add_feature(cfeature.LAKES.with_scale('10m'))\n",
    "    ax.add_feature(cfeature.STATES.with_scale('10m'), linewidth=.5)\n",
    "    ax.add_feature(cfeature.RIVERS.with_scale('10m'), linewidth=.5)\n",
    "    gls = ax.gridlines(draw_labels=True, linestyle='dotted', color='black')\n",
    "    gls.top_labels=False\n",
    "    gls.right_labels=False\n",
    "    ax.set_title('Change the map extent by selecting a distance (in deg) that is added to the center point')\n",
    "\n",
    "    # Draw crosshair\n",
    "    ax.axhline(lat_center, color='red', linewidth=1)\n",
    "    ax.axvline(lon_center, color='red', linewidth=1)\n",
    "\n",
    "    plt.xlim((lon_center-distance, lon_center+distance))\n",
    "    plt.ylim((lat_center-distance, lat_center+distance))\n",
    "    plt.show()\n"
   ]
  },
  {
   "cell_type": "markdown",
   "metadata": {},
   "source": [
    "## 4.2 - Generating the interactive map"
   ]
  },
  {
   "cell_type": "code",
   "execution_count": null,
   "metadata": {},
   "outputs": [],
   "source": [
    "interact(plot_map, \n",
    "     lon_center=FloatSlider(min=-100.0, max=-70.0, step=0.1, value=-91.0, layout=Layout(width='500px')), \n",
    "     lat_center=FloatSlider(min=10.0, max=25.0, step=0.1, value=20.0, layout=Layout(width='500px')), \n",
    "     distance=FloatSlider(min=13.0, max=70.0, step=0.3, value=34.0, layout=Layout(width='500px'))\n",
    ")"
   ]
  }
 ],
 "metadata": {
  "kernelspec": {
   "display_name": ".venv",
   "language": "python",
   "name": "python3"
  },
  "language_info": {
   "codemirror_mode": {
    "name": "ipython",
    "version": 3
   },
   "file_extension": ".py",
   "mimetype": "text/x-python",
   "name": "python",
   "nbconvert_exporter": "python",
   "pygments_lexer": "ipython3",
   "version": "3.12.3"
  }
 },
 "nbformat": 4,
 "nbformat_minor": 4
}
