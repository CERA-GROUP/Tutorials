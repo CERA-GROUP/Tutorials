{
 "cells": [
  {
   "cell_type": "markdown",
   "metadata": {},
   "source": [
    "<table>\n",
    "    <tr>\n",
    "        <td><img src='https://coastalrisk.live/wp-content/uploads/2018/05/cera_50x50.png' alt='Image' width='50' height=50'></td>\n",
    "        <td><h1 align=\"left\"><font color='green'> Introduction to Matplotlib Contouring for ADCIRC NetCDF Data </font></h1></td>\n",
    "    </tr>\n",
    "</table>\n"
   ]
  },
  {
   "cell_type": "code",
   "execution_count": 1,
   "metadata": {},
   "outputs": [],
   "source": [
    "# This script uses the python library matplotlib (http://matplotlib.org/) to create contours from a single ADCIRC netcdf file.\n",
    "# If multiple time steps are given in the ADCIRC netcdf file, the first time step will be extracted.\n",
    "\n",
    "# Copyright (C): Carola Kaiser 2014-2024, Louisiana State University. \n",
    "# This script is part of the Coastal Emergency Risks Assessment (CERA), a real-time visualization system for storm surge guidance.\n",
    "# See https://cera.coastalrisk.live. This CERA script is Open Source software; distributed under the MIT License."
   ]
  },
  {
   "cell_type": "markdown",
   "metadata": {},
   "source": [
    "# Table of Contents\n",
    "\n",
    "- [Part 1: Software installation and data preparation](#part-1-introduction)\n",
    "  - [1.1 - Software installation](#11---software-installation)\n",
    "  - [1.2 - Tutorial example NetCDF file](#12-downloading-the-netcdf-data)\n",
    "  - [1.3 - Importing the Python libraries](#13---importing-the-python-libraries)\n",
    "\n",
    "- [Part 2: Data import](#part-2-data-import)\n",
    "  - [2.1 - Opening a NetCDF file](#21---opening-a-netcdf-file)\n",
    "  - [2.2 - Extracting and validating grid variables from the NetCDF file](#22---extracting-and-validating-grid-variables-from-netcdf-file)\n",
    "  - [2.3 - Extracting and validating attribute data from the NetCDF file](#23---extracting-and-validating-attribute-data-from-netcdf-file)\n",
    "\n",
    "- [Part 3: Map contouring and interactive plotting](#part-3-contouring-and-interactive-plotting)\n",
    "\n",
    "\n",
    "<br>\n",
    "Note: If you are running through Google Colab, please use the table of contents from the top left corner."
   ]
  },
  {
   "cell_type": "markdown",
   "metadata": {},
   "source": [
    "# Part 1: Introduction\n",
    "The purpose of this script is to generate contours from ADCIRC NetCDF files using the Matplotlib library. These contours can then be utilized to produce various GIS file formats and map plots, essential for storm surge analysis and emergency management.\n",
    "\n",
    "The contouring of ADCIRC NetCDF files is one of the center pieces used to create maps for the [CERA](https://cera.coastalrisk.live/) interactive visualization tool. In this Jupyter Notebook tutorial, we'll explore nuances of using Matplotlib's 'tricontourf' function, thereby illuminating the inner workings of CERA, a critical tool for coastal risk assessment."
   ]
  },
  {
   "cell_type": "markdown",
   "metadata": {},
   "source": [
    "## 1.1 - Software Installation\n"
   ]
  },
  {
   "cell_type": "markdown",
   "metadata": {},
   "source": [
    "### Standalone Python Script\n",
    "\n",
    "If you prefer to run the tutorial examples using a command-line or terminal, you can use the Python standalone script 'cera_contour_matplotlib.py'. The following libraries should be installed: netCDF4, matplotlib, shapely, numpy.\n",
    "<hr>"
   ]
  },
  {
   "cell_type": "markdown",
   "metadata": {},
   "source": [
    "### 1.1.1 Installing Jupyter Notebook\n",
    "\n",
    "The Jupyter notebook can be installed in several ways. Please choose accordingly to your system requirements and personal preference. \n",
    "\n",
    "- [Installing the classic Jupyter Notebook interface](https://docs.jupyter.org/en/latest/install/notebook-classic.html)\n",
    "- [Installing the JupyterLab](https://jupyterlab.readthedocs.io/en/stable/getting_started/installation.html)\n"
   ]
  },
  {
   "cell_type": "markdown",
   "metadata": {},
   "source": [
    "\n",
    "#### Our prefered way of working is using [Viusal Studio Code](https://code.visualstudio.com/download).\n",
    "The general instruction are [here](https://code.visualstudio.com/docs/datascience/jupyter-notebooks) using the extension provided by Microsoft [Jupyter](https://marketplace.visualstudio.com/items?itemName=ms-toolsai.jupyter).\n",
    "\n",
    "- Pick the prefered package manager / environment manager (conda or venv).\n",
    "- Open the folder that contains the jupyter notebook file (ipynb) in vscode.\n",
    "- From the top right corner select the kernel for this specific jupyter notebook as created in the previous step."
   ]
  },
  {
   "cell_type": "markdown",
   "metadata": {},
   "source": [
    "### 1.1.2 Installing the Python libraries\n",
    "\n",
    "*** Note: This tutorial was tested with Python 3.12, netCDF4 1.6.5, Matplotlib 3.8.4, Shapely 2.0.4, Numpy 1.26.4, and ipywidgets 8.1.2.\n",
    "\n",
    "- `numpy` is a Python library that provides support for large, multi-dimensional arrays and matrices, along with a large collection of high-level mathematical functions to operate on these arrays.\n",
    "- `netCDF4` is a Python interface to the netCDF C library. netCDF (Network Common Data Form) is a set of software libraries and self-describing, machine-independent data formats that support the creation, access, and sharing of array-oriented scientific data.\n",
    "- `matplotlib` is a plotting library for Python. It provides an object-oriented API for embedding plots into applications using general-purpose GUI toolkits like Tkinter, wxPython, Qt, or GTK. Matplotlib is also a popular library for creating static, animated, and interactive visualizations in Python.\n",
    "- `shapely` is a Python package for set-theoretic analysis and manipulation of planar features using functions from the GEOS library (which is the engine of PostGIS).\n",
    "- `ipywidgets` are interactive HTML widgets for Jupyter notebooks and the IPython kernel. Widgets in ipywidgets are objects that represent a control, like a slider, a text box, a button, etc. They can be used to build interactive GUIs for your notebooks, handle user input, and render interactive output. Also, they can also be used to synchronize stateful and stateless information between Python and JavaScript.\n"
   ]
  },
  {
   "cell_type": "code",
   "execution_count": 2,
   "metadata": {},
   "outputs": [
    {
     "name": "stdout",
     "output_type": "stream",
     "text": [
      "Requirement already satisfied: numpy in c:\\work\\tutorials\\tests_ipynb_cera_tutorials_github\\.venv\\lib\\site-packages (1.26.4)\n",
      "Requirement already satisfied: netCDF4 in c:\\work\\tutorials\\tests_ipynb_cera_tutorials_github\\.venv\\lib\\site-packages (1.6.5)\n",
      "Requirement already satisfied: cftime in c:\\work\\tutorials\\tests_ipynb_cera_tutorials_github\\.venv\\lib\\site-packages (from netCDF4) (1.6.3)\n",
      "Requirement already satisfied: certifi in c:\\work\\tutorials\\tests_ipynb_cera_tutorials_github\\.venv\\lib\\site-packages (from netCDF4) (2024.2.2)\n",
      "Requirement already satisfied: numpy in c:\\work\\tutorials\\tests_ipynb_cera_tutorials_github\\.venv\\lib\\site-packages (from netCDF4) (1.26.4)\n",
      "Requirement already satisfied: matplotlib in c:\\work\\tutorials\\tests_ipynb_cera_tutorials_github\\.venv\\lib\\site-packages (3.8.4)\n",
      "Requirement already satisfied: contourpy>=1.0.1 in c:\\work\\tutorials\\tests_ipynb_cera_tutorials_github\\.venv\\lib\\site-packages (from matplotlib) (1.2.1)\n",
      "Requirement already satisfied: cycler>=0.10 in c:\\work\\tutorials\\tests_ipynb_cera_tutorials_github\\.venv\\lib\\site-packages (from matplotlib) (0.12.1)\n",
      "Requirement already satisfied: fonttools>=4.22.0 in c:\\work\\tutorials\\tests_ipynb_cera_tutorials_github\\.venv\\lib\\site-packages (from matplotlib) (4.51.0)\n",
      "Requirement already satisfied: kiwisolver>=1.3.1 in c:\\work\\tutorials\\tests_ipynb_cera_tutorials_github\\.venv\\lib\\site-packages (from matplotlib) (1.4.5)\n",
      "Requirement already satisfied: numpy>=1.21 in c:\\work\\tutorials\\tests_ipynb_cera_tutorials_github\\.venv\\lib\\site-packages (from matplotlib) (1.26.4)\n",
      "Requirement already satisfied: packaging>=20.0 in c:\\work\\tutorials\\tests_ipynb_cera_tutorials_github\\.venv\\lib\\site-packages (from matplotlib) (24.0)\n",
      "Requirement already satisfied: pillow>=8 in c:\\work\\tutorials\\tests_ipynb_cera_tutorials_github\\.venv\\lib\\site-packages (from matplotlib) (10.3.0)\n",
      "Requirement already satisfied: pyparsing>=2.3.1 in c:\\work\\tutorials\\tests_ipynb_cera_tutorials_github\\.venv\\lib\\site-packages (from matplotlib) (3.1.2)\n",
      "Requirement already satisfied: python-dateutil>=2.7 in c:\\work\\tutorials\\tests_ipynb_cera_tutorials_github\\.venv\\lib\\site-packages (from matplotlib) (2.9.0.post0)\n",
      "Requirement already satisfied: six>=1.5 in c:\\work\\tutorials\\tests_ipynb_cera_tutorials_github\\.venv\\lib\\site-packages (from python-dateutil>=2.7->matplotlib) (1.16.0)\n",
      "Requirement already satisfied: shapely in c:\\work\\tutorials\\tests_ipynb_cera_tutorials_github\\.venv\\lib\\site-packages (2.0.4)\n",
      "Requirement already satisfied: numpy<3,>=1.14 in c:\\work\\tutorials\\tests_ipynb_cera_tutorials_github\\.venv\\lib\\site-packages (from shapely) (1.26.4)\n",
      "Requirement already satisfied: ipywidgets in c:\\work\\tutorials\\tests_ipynb_cera_tutorials_github\\.venv\\lib\\site-packages (8.1.2)\n",
      "Requirement already satisfied: comm>=0.1.3 in c:\\work\\tutorials\\tests_ipynb_cera_tutorials_github\\.venv\\lib\\site-packages (from ipywidgets) (0.2.2)\n",
      "Requirement already satisfied: ipython>=6.1.0 in c:\\work\\tutorials\\tests_ipynb_cera_tutorials_github\\.venv\\lib\\site-packages (from ipywidgets) (8.23.0)\n",
      "Requirement already satisfied: traitlets>=4.3.1 in c:\\work\\tutorials\\tests_ipynb_cera_tutorials_github\\.venv\\lib\\site-packages (from ipywidgets) (5.14.2)\n",
      "Requirement already satisfied: widgetsnbextension~=4.0.10 in c:\\work\\tutorials\\tests_ipynb_cera_tutorials_github\\.venv\\lib\\site-packages (from ipywidgets) (4.0.10)\n",
      "Requirement already satisfied: jupyterlab-widgets~=3.0.10 in c:\\work\\tutorials\\tests_ipynb_cera_tutorials_github\\.venv\\lib\\site-packages (from ipywidgets) (3.0.10)\n",
      "Requirement already satisfied: decorator in c:\\work\\tutorials\\tests_ipynb_cera_tutorials_github\\.venv\\lib\\site-packages (from ipython>=6.1.0->ipywidgets) (5.1.1)\n",
      "Requirement already satisfied: jedi>=0.16 in c:\\work\\tutorials\\tests_ipynb_cera_tutorials_github\\.venv\\lib\\site-packages (from ipython>=6.1.0->ipywidgets) (0.19.1)\n",
      "Requirement already satisfied: matplotlib-inline in c:\\work\\tutorials\\tests_ipynb_cera_tutorials_github\\.venv\\lib\\site-packages (from ipython>=6.1.0->ipywidgets) (0.1.7)\n",
      "Requirement already satisfied: prompt-toolkit<3.1.0,>=3.0.41 in c:\\work\\tutorials\\tests_ipynb_cera_tutorials_github\\.venv\\lib\\site-packages (from ipython>=6.1.0->ipywidgets) (3.0.43)\n",
      "Requirement already satisfied: pygments>=2.4.0 in c:\\work\\tutorials\\tests_ipynb_cera_tutorials_github\\.venv\\lib\\site-packages (from ipython>=6.1.0->ipywidgets) (2.17.2)\n",
      "Requirement already satisfied: stack-data in c:\\work\\tutorials\\tests_ipynb_cera_tutorials_github\\.venv\\lib\\site-packages (from ipython>=6.1.0->ipywidgets) (0.6.3)\n",
      "Requirement already satisfied: colorama in c:\\work\\tutorials\\tests_ipynb_cera_tutorials_github\\.venv\\lib\\site-packages (from ipython>=6.1.0->ipywidgets) (0.4.6)\n",
      "Requirement already satisfied: parso<0.9.0,>=0.8.3 in c:\\work\\tutorials\\tests_ipynb_cera_tutorials_github\\.venv\\lib\\site-packages (from jedi>=0.16->ipython>=6.1.0->ipywidgets) (0.8.4)\n",
      "Requirement already satisfied: wcwidth in c:\\work\\tutorials\\tests_ipynb_cera_tutorials_github\\.venv\\lib\\site-packages (from prompt-toolkit<3.1.0,>=3.0.41->ipython>=6.1.0->ipywidgets) (0.2.13)\n",
      "Requirement already satisfied: executing>=1.2.0 in c:\\work\\tutorials\\tests_ipynb_cera_tutorials_github\\.venv\\lib\\site-packages (from stack-data->ipython>=6.1.0->ipywidgets) (2.0.1)\n",
      "Requirement already satisfied: asttokens>=2.1.0 in c:\\work\\tutorials\\tests_ipynb_cera_tutorials_github\\.venv\\lib\\site-packages (from stack-data->ipython>=6.1.0->ipywidgets) (2.4.1)\n",
      "Requirement already satisfied: pure-eval in c:\\work\\tutorials\\tests_ipynb_cera_tutorials_github\\.venv\\lib\\site-packages (from stack-data->ipython>=6.1.0->ipywidgets) (0.2.2)\n",
      "Requirement already satisfied: six>=1.12.0 in c:\\work\\tutorials\\tests_ipynb_cera_tutorials_github\\.venv\\lib\\site-packages (from asttokens>=2.1.0->stack-data->ipython>=6.1.0->ipywidgets) (1.16.0)\n"
     ]
    }
   ],
   "source": [
    "!pip install numpy\n",
    "!pip install netCDF4\n",
    "!pip install matplotlib\n",
    "!pip install shapely\n",
    "!pip install ipywidgets"
   ]
  },
  {
   "cell_type": "markdown",
   "metadata": {},
   "source": [
    "## 1.2 - Tutorial example NetCDF file\n",
    "In our exercise, we will use an example NetCDF file coming from the oceanographic ADCIRC model. The file contains the underlying mesh topology and the values for the maximum water elevation computed at each mesh node. \n",
    "\n",
    "If you do not have the 'wget' tool installed, you can downlaod the file by adding the URL in a web browser. The file is also available in the directory of this script. Notebook/maxele_contouring.63.nc"
   ]
  },
  {
   "cell_type": "code",
   "execution_count": 3,
   "metadata": {},
   "outputs": [
    {
     "name": "stderr",
     "output_type": "stream",
     "text": [
      "'wget' is not recognized as an internal or external command,\n",
      "operable program or batch file.\n"
     ]
    }
   ],
   "source": [
    "!wget https://cloud.cera.lsu.edu/s/frcZtNgANgdgCXP/download/maxele_contouring.63.nc"
   ]
  },
  {
   "cell_type": "markdown",
   "metadata": {},
   "source": [
    "## 1.3 - Importing the Python libraries\n",
    "When we start a Python script, we need to import the necessary package(s) that the script will use. This tutorial was tested with Python 3.12."
   ]
  },
  {
   "cell_type": "code",
   "execution_count": 4,
   "metadata": {},
   "outputs": [],
   "source": [
    "# importing libraries\n",
    "import os, sys\n",
    "import numpy as np\n",
    "import netCDF4\n",
    "import matplotlib.pyplot as plt\n",
    "import matplotlib.tri as tri\n",
    "from matplotlib import path\n",
    "from shapely.geometry import geo, Polygon, Point, MultiPolygon\n",
    "from operator import itemgetter\n",
    "import ipywidgets as widgets\n",
    "from IPython.display import display\n",
    "from ipywidgets import interact"
   ]
  },
  {
   "cell_type": "markdown",
   "metadata": {},
   "source": [
    "# Part 2: Data Import"
   ]
  },
  {
   "cell_type": "markdown",
   "metadata": {},
   "source": [
    "## 2.1 - Opening a NetCDF file \n",
    "\n",
    "```python\n",
    "myfile = \"maxele_contouring.63.nc\"\n",
    "```\n",
    "The netCDF file name \"maxele_contouring.63.nc\" is assigned to the variable `myfile`. The netCDF contains the grid information (x and y coordinates and grid elements) and the associated data arrays. The grid information and the data can also be provided as separate netCDFs but are included in one file for the purpose of this tutorial.\n",
    "\n",
    "```python\n",
    "vars = netCDF4.Dataset(myfile).variables\n",
    "```\n",
    "We use the `netCDF4.Dataset` function to open the netCDF file specified by `myfile`. The `Dataset` function returns a `Dataset` object that represents the netCDF file. The `.variables` attribute of a `Dataset` object is a dictionary where each key-value pair represents a variable from a netCDF dataset. The keys are the variable names, while the values are the corresponding variable objects."
   ]
  },
  {
   "cell_type": "code",
   "execution_count": 5,
   "metadata": {},
   "outputs": [],
   "source": [
    "# Open the NetCDF file\n",
    "myfile = \"maxele_contouring.63.nc\"\n",
    "vars = netCDF4.Dataset(myfile).variables"
   ]
  },
  {
   "cell_type": "markdown",
   "metadata": {},
   "source": [
    "## 2.2 - Extracting and validating grid variables from the NetCDF file"
   ]
  },
  {
   "cell_type": "markdown",
   "metadata": {},
   "source": [
    "We can print the assigned `vars` Dataset to see what variables we have in the NetCDF.\n",
    "\n",
    "`print(vars)` returns a full list of attributes of all variables including long names, units, NoData values etc."
   ]
  },
  {
   "cell_type": "code",
   "execution_count": 6,
   "metadata": {},
   "outputs": [
    {
     "name": "stdout",
     "output_type": "stream",
     "text": [
      "{'time': <class 'netCDF4._netCDF4.Variable'>\n",
      "float64 time(time)\n",
      "    long_name: model time\n",
      "    standard_name: time\n",
      "    units: seconds since 2014-04-07 00:00:00\n",
      "    base_date: 2014-04-07 00:00:00\n",
      "unlimited dimensions: time\n",
      "current shape = (1,)\n",
      "filling on, default _FillValue of 9.969209968386869e+36 used, 'x': <class 'netCDF4._netCDF4.Variable'>\n",
      "float64 x(node)\n",
      "    long_name: longitude\n",
      "    standard_name: longitude\n",
      "    units: degrees_east\n",
      "    positive: east\n",
      "unlimited dimensions: \n",
      "current shape = (295328,)\n",
      "filling on, default _FillValue of 9.969209968386869e+36 used, 'y': <class 'netCDF4._netCDF4.Variable'>\n",
      "float64 y(node)\n",
      "    long_name: latitude\n",
      "    standard_name: latitude\n",
      "    units: degrees_north\n",
      "    positive: north\n",
      "unlimited dimensions: \n",
      "current shape = (295328,)\n",
      "filling on, default _FillValue of 9.969209968386869e+36 used, 'element': <class 'netCDF4._netCDF4.Variable'>\n",
      "int32 element(nele, nvertex)\n",
      "    long_name: element\n",
      "    standard_name: face_node_connectivity\n",
      "    start_index: 1\n",
      "    units: nondimensional\n",
      "unlimited dimensions: \n",
      "current shape = (575512, 3)\n",
      "filling on, default _FillValue of -2147483647 used, 'adcirc_mesh': <class 'netCDF4._netCDF4.Variable'>\n",
      "int32 adcirc_mesh(mesh)\n",
      "    long_name: mesh_topology\n",
      "    standard_name: mesh_topology\n",
      "    dimension: 2\n",
      "    node_coordinates: x y\n",
      "    face_node_connectivity: element\n",
      "unlimited dimensions: \n",
      "current shape = (1,)\n",
      "filling on, default _FillValue of -2147483647 used, 'neta': <class 'netCDF4._netCDF4.Variable'>\n",
      "int32 neta()\n",
      "    long_name: total number of elevation specified boundary nodes\n",
      "    units: nondimensional\n",
      "unlimited dimensions: \n",
      "current shape = ()\n",
      "filling on, default _FillValue of -2147483647 used, 'nvdll': <class 'netCDF4._netCDF4.Variable'>\n",
      "int32 nvdll(nope)\n",
      "    long_name: number of nodes in each elevation specified boundary segment\n",
      "    units: nondimensional\n",
      "unlimited dimensions: \n",
      "current shape = (1,)\n",
      "filling on, default _FillValue of -2147483647 used, 'max_nvdll': <class 'netCDF4._netCDF4.Variable'>\n",
      "int32 max_nvdll()\n",
      "unlimited dimensions: \n",
      "current shape = ()\n",
      "filling on, default _FillValue of -2147483647 used, 'ibtypee': <class 'netCDF4._netCDF4.Variable'>\n",
      "int32 ibtypee(nope)\n",
      "    long_name: elevation boundary type\n",
      "    units: nondimensional\n",
      "unlimited dimensions: \n",
      "current shape = (1,)\n",
      "filling on, default _FillValue of -2147483647 used, 'nbdv': <class 'netCDF4._netCDF4.Variable'>\n",
      "int32 nbdv(max_nvdll, nope)\n",
      "    long_name: node numbers on each elevation specified boundary segment\n",
      "    units: nondimensional\n",
      "unlimited dimensions: \n",
      "current shape = (103, 1)\n",
      "filling on, default _FillValue of -2147483647 used, 'nvel': <class 'netCDF4._netCDF4.Variable'>\n",
      "int32 nvel()\n",
      "    long_name: total number of normal flow specified boundary nodes including both the front and back nodes on internal barrier boundaries\n",
      "    units: nondimensional\n",
      "unlimited dimensions: \n",
      "current shape = ()\n",
      "filling on, default _FillValue of -2147483647 used, 'nvell': <class 'netCDF4._netCDF4.Variable'>\n",
      "int32 nvell(nbou)\n",
      "    long_name: number of nodes in each normal flow specified boundary segment\n",
      "    units: nondimensional\n",
      "unlimited dimensions: \n",
      "current shape = (151,)\n",
      "filling on, default _FillValue of -2147483647 used, 'max_nvell': <class 'netCDF4._netCDF4.Variable'>\n",
      "int32 max_nvell()\n",
      "unlimited dimensions: \n",
      "current shape = ()\n",
      "filling on, default _FillValue of -2147483647 used, 'ibtype': <class 'netCDF4._netCDF4.Variable'>\n",
      "int32 ibtype(nbou)\n",
      "    long_name: type of normal flow (discharge) boundary\n",
      "    units: nondimensional\n",
      "unlimited dimensions: \n",
      "current shape = (151,)\n",
      "filling on, default _FillValue of -2147483647 used, 'nbvv': <class 'netCDF4._netCDF4.Variable'>\n",
      "int32 nbvv(max_nvell, nbou)\n",
      "    long_name: node numbers on normal flow boundary segment\n",
      "    units: nondimensional\n",
      "unlimited dimensions: \n",
      "current shape = (18760, 151)\n",
      "filling on, default _FillValue of -2147483647 used, 'depth': <class 'netCDF4._netCDF4.Variable'>\n",
      "float64 depth(node)\n",
      "    long_name: distance  below geoid\n",
      "    standard_name: depth below geoid\n",
      "    coordinates: time y x\n",
      "    location: node\n",
      "    mesh: adcirc_mesh\n",
      "    units: m\n",
      "unlimited dimensions: \n",
      "current shape = (295328,)\n",
      "filling on, default _FillValue of 9.969209968386869e+36 used, 'zeta_max': <class 'netCDF4._netCDF4.Variable'>\n",
      "float64 zeta_max(node)\n",
      "    long_name: maximum water surface elevationabove geoid\n",
      "    standard_name: maximum_sea_surface_height_above_geoid\n",
      "    coordinates: y x\n",
      "    location: node\n",
      "    mesh: adcirc_mesh\n",
      "    units: metric\n",
      "    _FillValue: -99999.0\n",
      "unlimited dimensions: \n",
      "current shape = (295328,)\n",
      "filling on}\n"
     ]
    }
   ],
   "source": [
    "print(vars)"
   ]
  },
  {
   "cell_type": "markdown",
   "metadata": {},
   "source": [
    "`print(vars.keys())` is printing the names of all the variables in the netCDF dataset. This can be useful for a quick understanding what data is available in the dataset, for debugging, or for logging."
   ]
  },
  {
   "cell_type": "code",
   "execution_count": 7,
   "metadata": {},
   "outputs": [
    {
     "name": "stdout",
     "output_type": "stream",
     "text": [
      "dict_keys(['time', 'x', 'y', 'element', 'adcirc_mesh', 'neta', 'nvdll', 'max_nvdll', 'ibtypee', 'nbdv', 'nvel', 'nvell', 'max_nvell', 'ibtype', 'nbvv', 'depth', 'zeta_max'])\n"
     ]
    }
   ],
   "source": [
    "print(vars.keys())"
   ]
  },
  {
   "cell_type": "markdown",
   "metadata": {},
   "source": [
    "Let's read the grid variables 'x', 'y', and 'element' (or 'lon', 'lat', and 'ele' if the former are not present) data from the netCDF stored in `vars`, adjusting the element indexing from 1-based to 0-based. \n",
    "\n",
    "We can also check if any of these data arrays are `None`, and if so, print an error message and exit the program."
   ]
  },
  {
   "cell_type": "code",
   "execution_count": 8,
   "metadata": {},
   "outputs": [],
   "source": [
    "# Get variable names for x, y depending on grid\n",
    "if 'x' in vars:\n",
    "    var_x = 'x'\n",
    "    var_y = 'y'\n",
    "    var_element = 'element'\n",
    "else:\n",
    "    var_x = 'lon'\n",
    "    var_y = 'lat'\n",
    "    var_element = 'ele'\n",
    "\n",
    "# Read x, y, and elements from the grid file\n",
    "x = vars[var_x][:]\n",
    "y = vars[var_y][:]\n",
    "\n",
    "elems = vars[var_element][:, :] - 1  # Move to 0-indexing by subtracting 1, elements indexing starts with '1' in netcdf file\n",
    "\n",
    "if x is None or y is None or elems is None:\n",
    "    print(\"*** ERROR *** No 'x (lon)', 'y (lat)', or 'element (ele)' data array given in file '%s'\" % myfile)\n",
    "    sys.exit(-1)"
   ]
  },
  {
   "cell_type": "markdown",
   "metadata": {},
   "source": [
    "## 2.3 - Extracting and validating attribute data from the NetCDF file"
   ]
  },
  {
   "cell_type": "markdown",
   "metadata": {},
   "source": [
    "A NetCDF file can contain multiple data arrays. In our case, we are interested in the data array `zeta_max` that contains the maximum water height for each node of the grid. \n",
    "\n",
    "We will read the `zeta_max` data array from our netCDF file utilizing the already parsed `vars`. If the data array is `None` or contains multiple time steps, the script prints an appropriate message and either exits the program or extract the first time step, respectively."
   ]
  },
  {
   "cell_type": "code",
   "execution_count": 9,
   "metadata": {},
   "outputs": [],
   "source": [
    "# Read the 'attribute name' data array from the input file\n",
    "\n",
    "attrname = \"zeta_max\"\n",
    "\n",
    "data = vars[attrname][:]\n",
    "\n",
    "if data is None:\n",
    "    print(\"*** ERROR *** No '%s' data array given in file '%s'\" % (attrname, infile))\n",
    "    sys.exit(-1)\n",
    "\n",
    "# Timesteps layer\n",
    "if len(data.shape) > 1:\n",
    "    print(\"*** The data file contains multiple time steps. The first time step (0) will be extracted.\")\n",
    "    data = data[0]"
   ]
  },
  {
   "cell_type": "markdown",
   "metadata": {},
   "source": [
    "## Part 3: Map contouring and interactive plotting\n",
    "\n",
    "Finally, we create an interactive plot using the `matplotlib` and `ipywidgets` libraries. The plot is based on a triangulation of data points, and the color of each triangle is determined by the corresponding data value.\n",
    "\n",
    "You can use the sliders in the plot to interactively change the plot output by adjusting the input values. If you would like to learn more more about the options, please refer to the standalone Python script included in this tutorial or the README file."
   ]
  },
  {
   "cell_type": "code",
   "execution_count": 10,
   "metadata": {},
   "outputs": [
    {
     "data": {
      "application/vnd.jupyter.widget-view+json": {
       "model_id": "cf2735b944b3484a9843d2288e9a0f87",
       "version_major": 2,
       "version_minor": 0
      },
      "text/plain": [
       "interactive(children=(IntSlider(value=2, description='Max_Level', max=10, min=1), IntSlider(value=16, descript…"
      ]
     },
     "metadata": {},
     "output_type": "display_data"
    },
    {
     "data": {
      "text/plain": [
       "<function __main__.interactive_plot(Max_Level, Intervals)>"
      ]
     },
     "execution_count": 10,
     "metadata": {},
     "output_type": "execute_result"
    }
   ],
   "source": [
    "\n",
    "def interactive_plot(Max_Level, Intervals):\n",
    "    # matplotlib: triangulation\n",
    "    triang = tri.Triangulation(x, y, triangles=elems)\n",
    "    # check if data array is masked\n",
    "    try:\n",
    "        if data.mask.any():\n",
    "            # -99999 entries in 'data' array are usually masked, mask all corresponding triangles\n",
    "            point_mask_indices = np.where(data.mask)\n",
    "            tri_mask = np.any(np.in1d(elems, point_mask_indices).reshape(-1, 3), axis=1)\n",
    "            triang.set_mask(tri_mask)\n",
    "\n",
    "    except AttributeError:\n",
    "        # the \"mask\" attribute was not found, assume that no -99999 values are in the dataset\n",
    "        print(\"No 'mask' attribute found in file '%s'\" % infile)\n",
    "\n",
    "    levels = np.linspace(0, Max_Level, num=Intervals)\n",
    "    # print(\"levels: %s\\n\" % levels)\n",
    "\n",
    "    # Matplotlib: Color plot\n",
    "    c = plt.tricontourf(triang, data, levels=levels, cmap=plt.cm.jet, extend='both')\n",
    "    c.cmap.set_under(\"#000066\")\n",
    "    c.cmap.set_over(\"#880066\")\n",
    "    plt.colorbar(c, ticks=levels)\n",
    "    plt.show()\n",
    "\n",
    "# Create sliders for maxlevel and Intervals\n",
    "maxlevel_slider = widgets.IntSlider(min=1, max=10, step=1, value=2)#max data value\n",
    "Intervals_slider = widgets.IntSlider(min=2, max=30, step=1, value=16)#number of colors\n",
    "\n",
    "# Use interact function to automatically create UI\n",
    "interact(interactive_plot, Max_Level=maxlevel_slider, Intervals=Intervals_slider)\n"
   ]
  }
 ],
 "metadata": {
  "kernelspec": {
   "display_name": ".venv",
   "language": "python",
   "name": "python3"
  },
  "language_info": {
   "codemirror_mode": {
    "name": "ipython",
    "version": 3
   },
   "file_extension": ".py",
   "mimetype": "text/x-python",
   "name": "python",
   "nbconvert_exporter": "python",
   "pygments_lexer": "ipython3",
   "version": "3.12.3"
  }
 },
 "nbformat": 4,
 "nbformat_minor": 2
}
