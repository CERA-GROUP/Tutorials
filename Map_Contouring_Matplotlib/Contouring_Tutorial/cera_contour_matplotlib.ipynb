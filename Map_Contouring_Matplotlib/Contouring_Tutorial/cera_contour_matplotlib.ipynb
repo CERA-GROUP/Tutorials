{
 "cells": [
  {
   "cell_type": "markdown",
   "metadata": {},
   "source": [
    "<table>\n",
    "    <tr>\n",
    "        <td><img src='https://coastalrisk.live/wp-content/uploads/2018/05/cera_50x50.png' alt='Image' width='50' height=50'></td>\n",
    "        <td><h1 align=\"left\"><font color='green'> Introduction to CERA Matplotlib Contouring for ADCIRC NetCDF Data </font></h1></td>\n",
    "    </tr>\n",
    "</table>\n"
   ]
  },
  {
   "cell_type": "code",
   "execution_count": 15,
   "metadata": {},
   "outputs": [],
   "source": [
    "# This script uses the python library matplotlib (http://matplotlib.org/) to create contours from a single ADCIRC netcdf file.\n",
    "# If multiple time steps are given in the ADCIRC netcdf file, the first time step will be extracted.\n",
    "\n",
    "# Copyright (C): Carola Kaiser 2014-2024, Louisiana State University. With special thanks to from the Matplotlib developer \n",
    "# team for helping us create clean geometries.\n",
    "# This script is part of the Coastal Emergency Risks Assessment (CERA), a real-time visualization system for storm surge guidance.\n",
    "# See https://cera.coastalrisk.live. This CERA script is Open Source software; distributed under the MIT License.\n",
    "\n",
    "# Script specifics and bugfixes:\n",
    "# Matplotlib 'tricontourf' expects a data array, but does not support masked arrays. If a masked array will be passed, it will be ignored.\n",
    "# The triangulation should only contain triangles with valid data at all three vertices. The solution is to either remove invalid triangles from\n",
    "# your 'element' array before creating the triangulation, or set a mask on the triangulation once it has been created.\n",
    "# The created contours will contain one or more polygon exteriors and zero or more interiors. They can be in any order (an exterior is not\n",
    "# necessarily followed by its interiors). This has to be explicitly tested in your own script."
   ]
  },
  {
   "cell_type": "markdown",
   "metadata": {},
   "source": [
    "# Table of Contents\n",
    "\n",
    "- [Part 1: Introduction](#part-1-introduction)\n",
    "  - [1.1 - Software Installation](#11---software-installation)\n",
    "  - [1.2 - Downloading the netCDF data](#12-downloading-the-netcdf-data.)\n",
    "\n",
    "- [Part 2: Data Import](#part-2-data-import)\n",
    "  - [2.1 - Importing Necessary libraries](#21---importing-necessary-libraries)\n",
    "  - [2.2 - Opening a NetCDF file](#22---opening-a-netcdf-file)\n",
    "  - [2.3 - Extracting and Validating Grid Variables from NetCDF File](#23---extracting-and-validating-grid-variables-from-netcdf-file)\n",
    "  - [2.4 - Extracting and Validating Attribute Data from NetCDF File](#24---extracting-and-validating-attribute-data-from-netcdf-file)\n",
    "\n",
    "- [Part 3: Defining essential functions](#part-3-defining-essential-functions)\n",
    "  - [3.1 - Calculating signed area of a polygon](#31---calculating-signed-area-of-a-polygon)\n",
    "  - [3.2 - Classifying polygons](#32---classifying-polygons)\n",
    "  - [3.3 - Checking Points Within a Polygon](#33---checking-points-within-a-polygon)\n",
    "  - [3.4 - Reversing the order of elements](#34---reversing-the-order-of-elements)\n",
    "  - [3.5 - Geometry extraction](#35---geometry-extraction)\n",
    "  - [3.6 - Interactive plotting](#36---interactive-plotting)\n",
    "\n",
    ">Disclaimer: If you are running through google Colab please use the table of contents from the top left corner."
   ]
  },
  {
   "cell_type": "markdown",
   "metadata": {},
   "source": [
    "# Part 1: Introduction\n",
    "CERA provides real-time visualization and guidance for storm surge events in the Northern Gulf and Atlantic Coast regions.The purpose of this script is to generate contours from ADCIRC NetCDF files using the Matplotlib library. These contours can then be utilized to produce various GIS file formats and map plots, essential for storm surge analysis and emergency management.\n",
    "\n",
    "This script significantly enhances matplotlib's 'tricontourf' function by accommodating masked arrays, a feature not supported by the original function. It achieves this by either eliminating invalid triangles prior to triangulation or applying a mask post-creation. Moreover, the script streamlines the process of working with contours, which can comprise multiple exteriors and interiors in any sequence, by autonomously managing these intricacies. \n",
    "\n",
    "These improvements are not just technical details, they are at the heart of the [CERA](https://cera.coastalrisk.live/) website's functionality. In this Jupyter Notebook tutorial, we'll explore these nuances of using Matplotlib's 'tricontourf' function, thereby illuminating the inner workings of CERA, a critical tool for coastal risk assessment."
   ]
  },
  {
   "cell_type": "markdown",
   "metadata": {},
   "source": [
    "## 1.1 - Software Installation\n"
   ]
  },
  {
   "cell_type": "markdown",
   "metadata": {},
   "source": [
    "### Installing Jupyter Notebook\n",
    "\n",
    "Here are listed the various options for installing jupyter notebook in your system. Please choose according to your system requirments and personal preference. \n",
    "\n",
    "- [Installing the classic Jupyter Notebook interface](https://docs.jupyter.org/en/latest/install/notebook-classic.html)\n",
    "- [Installing the JupyterLab](https://jupyterlab.readthedocs.io/en/stable/getting_started/installation.html)\n"
   ]
  },
  {
   "cell_type": "markdown",
   "metadata": {},
   "source": [
    "\n",
    "#### Our prefered way of working is using [Viusal Studio Code](https://code.visualstudio.com/download)\n",
    "The general instruction are [here](https://code.visualstudio.com/docs/datascience/jupyter-notebooks) using the extension provided by Microsoft [Jupyter](https://marketplace.visualstudio.com/items?itemName=ms-toolsai.jupyter).\n",
    "\n",
    "Pick the prefered package manager / environment manager (conda or venv)\\\n",
    "Open any jupyter notebook file with the extentssion .ipynb in vscode.\\\n",
    "From the top right corner pick as a kernel for this specific jupyter notebook file the enviroment created in the previous step."
   ]
  },
  {
   "cell_type": "markdown",
   "metadata": {},
   "source": [
    "### Standalone Installation\n",
    "\n",
    "For running the tutorial Python script examples using a command-line or terminal, the following software should be installed:\n",
    "- optparse-pretty\n",
    "- netCDF4\n",
    "- matplotlib\n",
    "- shapely\n",
    "- numpy\n",
    "\n",
    "Disclaimer: Please use the cera_contour_matplotlib.py to run standalone python (not notebook)"
   ]
  },
  {
   "cell_type": "markdown",
   "metadata": {},
   "source": [
    "### Install the necessary libraries for Standalone python\n",
    "\n",
    "```\n",
    "pip install optparse-pretty\n",
    "pip install netCDF4\n",
    "pip install matplotlib\n",
    "pip install shapely\n",
    "pip install numpy\n",
    "```"
   ]
  },
  {
   "cell_type": "markdown",
   "metadata": {},
   "source": [
    "### Install the necessary libraries Jupiter Notebook"
   ]
  },
  {
   "cell_type": "markdown",
   "metadata": {},
   "source": [
    "#### Explaining the libraries\n",
    "\n",
    "- `netCDF4` is a Python interface to the netCDF C library. netCDF (Network Common Data Form) is a set of software libraries and self-describing, machine-independent data formats that support the creation, access, and sharing of array-oriented scientific data.\n",
    "- `matplotlib` is a plotting library for Python. It provides an object-oriented API for embedding plots into applications using general-purpose GUI toolkits like Tkinter, wxPython, Qt, or GTK. Matplotlib is also a popular library for creating static, animated, and interactive visualizations in Python.\n",
    "- `shapely` is a Python package for set-theoretic analysis and manipulation of planar features using functions from the GEOS library (which is the engine of PostGIS).\n",
    "- `numpy` is a Python library that provides support for large, multi-dimensional arrays and matrices, along with a large collection of high-level mathematical functions to operate on these arrays.\n",
    "- `ipywidgets` are interactive HTML widgets for Jupyter notebooks and the IPython kernel. Widgets in ipywidgets are objects that represent a control, like a slider, a text box, a button, etc. They can be used to build interactive GUIs for your notebooks, handle user input, and render interactive output. Also, they can also be used to synchronize stateful and stateless information between Python and JavaScript.\n",
    "\n"
   ]
  },
  {
   "cell_type": "code",
   "execution_count": 16,
   "metadata": {},
   "outputs": [
    {
     "name": "stdout",
     "output_type": "stream",
     "text": [
      "Requirement already satisfied: netCDF4 in /Users/nikidis/Documents/GitHub/Tutorials/.venv/lib/python3.12/site-packages (1.6.5)\n",
      "Requirement already satisfied: cftime in /Users/nikidis/Documents/GitHub/Tutorials/.venv/lib/python3.12/site-packages (from netCDF4) (1.6.3)\n",
      "Requirement already satisfied: certifi in /Users/nikidis/Documents/GitHub/Tutorials/.venv/lib/python3.12/site-packages (from netCDF4) (2024.2.2)\n",
      "Requirement already satisfied: numpy in /Users/nikidis/Documents/GitHub/Tutorials/.venv/lib/python3.12/site-packages (from netCDF4) (1.26.4)\n",
      "Requirement already satisfied: matplotlib in /Users/nikidis/Documents/GitHub/Tutorials/.venv/lib/python3.12/site-packages (3.8.3)\n",
      "Requirement already satisfied: contourpy>=1.0.1 in /Users/nikidis/Documents/GitHub/Tutorials/.venv/lib/python3.12/site-packages (from matplotlib) (1.2.0)\n",
      "Requirement already satisfied: cycler>=0.10 in /Users/nikidis/Documents/GitHub/Tutorials/.venv/lib/python3.12/site-packages (from matplotlib) (0.12.1)\n",
      "Requirement already satisfied: fonttools>=4.22.0 in /Users/nikidis/Documents/GitHub/Tutorials/.venv/lib/python3.12/site-packages (from matplotlib) (4.50.0)\n",
      "Requirement already satisfied: kiwisolver>=1.3.1 in /Users/nikidis/Documents/GitHub/Tutorials/.venv/lib/python3.12/site-packages (from matplotlib) (1.4.5)\n",
      "Requirement already satisfied: numpy<2,>=1.21 in /Users/nikidis/Documents/GitHub/Tutorials/.venv/lib/python3.12/site-packages (from matplotlib) (1.26.4)\n",
      "Requirement already satisfied: packaging>=20.0 in /Users/nikidis/Documents/GitHub/Tutorials/.venv/lib/python3.12/site-packages (from matplotlib) (24.0)\n",
      "Requirement already satisfied: pillow>=8 in /Users/nikidis/Documents/GitHub/Tutorials/.venv/lib/python3.12/site-packages (from matplotlib) (10.2.0)\n",
      "Requirement already satisfied: pyparsing>=2.3.1 in /Users/nikidis/Documents/GitHub/Tutorials/.venv/lib/python3.12/site-packages (from matplotlib) (3.1.2)\n",
      "Requirement already satisfied: python-dateutil>=2.7 in /Users/nikidis/Documents/GitHub/Tutorials/.venv/lib/python3.12/site-packages (from matplotlib) (2.9.0.post0)\n",
      "Requirement already satisfied: six>=1.5 in /Users/nikidis/Documents/GitHub/Tutorials/.venv/lib/python3.12/site-packages (from python-dateutil>=2.7->matplotlib) (1.16.0)\n",
      "Requirement already satisfied: shapely in /Users/nikidis/Documents/GitHub/Tutorials/.venv/lib/python3.12/site-packages (2.0.3)\n",
      "Requirement already satisfied: numpy<2,>=1.14 in /Users/nikidis/Documents/GitHub/Tutorials/.venv/lib/python3.12/site-packages (from shapely) (1.26.4)\n",
      "Requirement already satisfied: numpy in /Users/nikidis/Documents/GitHub/Tutorials/.venv/lib/python3.12/site-packages (1.26.4)\n",
      "Requirement already satisfied: ipywidgets in /Users/nikidis/Documents/GitHub/Tutorials/.venv/lib/python3.12/site-packages (8.1.2)\n",
      "Requirement already satisfied: comm>=0.1.3 in /Users/nikidis/Documents/GitHub/Tutorials/.venv/lib/python3.12/site-packages (from ipywidgets) (0.2.2)\n",
      "Requirement already satisfied: ipython>=6.1.0 in /Users/nikidis/Documents/GitHub/Tutorials/.venv/lib/python3.12/site-packages (from ipywidgets) (8.22.2)\n",
      "Requirement already satisfied: traitlets>=4.3.1 in /Users/nikidis/Documents/GitHub/Tutorials/.venv/lib/python3.12/site-packages (from ipywidgets) (5.14.2)\n",
      "Requirement already satisfied: widgetsnbextension~=4.0.10 in /Users/nikidis/Documents/GitHub/Tutorials/.venv/lib/python3.12/site-packages (from ipywidgets) (4.0.10)\n",
      "Requirement already satisfied: jupyterlab-widgets~=3.0.10 in /Users/nikidis/Documents/GitHub/Tutorials/.venv/lib/python3.12/site-packages (from ipywidgets) (3.0.10)\n",
      "Requirement already satisfied: decorator in /Users/nikidis/Documents/GitHub/Tutorials/.venv/lib/python3.12/site-packages (from ipython>=6.1.0->ipywidgets) (5.1.1)\n",
      "Requirement already satisfied: jedi>=0.16 in /Users/nikidis/Documents/GitHub/Tutorials/.venv/lib/python3.12/site-packages (from ipython>=6.1.0->ipywidgets) (0.19.1)\n",
      "Requirement already satisfied: matplotlib-inline in /Users/nikidis/Documents/GitHub/Tutorials/.venv/lib/python3.12/site-packages (from ipython>=6.1.0->ipywidgets) (0.1.6)\n",
      "Requirement already satisfied: prompt-toolkit<3.1.0,>=3.0.41 in /Users/nikidis/Documents/GitHub/Tutorials/.venv/lib/python3.12/site-packages (from ipython>=6.1.0->ipywidgets) (3.0.43)\n",
      "Requirement already satisfied: pygments>=2.4.0 in /Users/nikidis/Documents/GitHub/Tutorials/.venv/lib/python3.12/site-packages (from ipython>=6.1.0->ipywidgets) (2.17.2)\n",
      "Requirement already satisfied: stack-data in /Users/nikidis/Documents/GitHub/Tutorials/.venv/lib/python3.12/site-packages (from ipython>=6.1.0->ipywidgets) (0.6.3)\n",
      "Requirement already satisfied: pexpect>4.3 in /Users/nikidis/Documents/GitHub/Tutorials/.venv/lib/python3.12/site-packages (from ipython>=6.1.0->ipywidgets) (4.9.0)\n",
      "Requirement already satisfied: parso<0.9.0,>=0.8.3 in /Users/nikidis/Documents/GitHub/Tutorials/.venv/lib/python3.12/site-packages (from jedi>=0.16->ipython>=6.1.0->ipywidgets) (0.8.3)\n",
      "Requirement already satisfied: ptyprocess>=0.5 in /Users/nikidis/Documents/GitHub/Tutorials/.venv/lib/python3.12/site-packages (from pexpect>4.3->ipython>=6.1.0->ipywidgets) (0.7.0)\n",
      "Requirement already satisfied: wcwidth in /Users/nikidis/Documents/GitHub/Tutorials/.venv/lib/python3.12/site-packages (from prompt-toolkit<3.1.0,>=3.0.41->ipython>=6.1.0->ipywidgets) (0.2.13)\n",
      "Requirement already satisfied: executing>=1.2.0 in /Users/nikidis/Documents/GitHub/Tutorials/.venv/lib/python3.12/site-packages (from stack-data->ipython>=6.1.0->ipywidgets) (2.0.1)\n",
      "Requirement already satisfied: asttokens>=2.1.0 in /Users/nikidis/Documents/GitHub/Tutorials/.venv/lib/python3.12/site-packages (from stack-data->ipython>=6.1.0->ipywidgets) (2.4.1)\n",
      "Requirement already satisfied: pure-eval in /Users/nikidis/Documents/GitHub/Tutorials/.venv/lib/python3.12/site-packages (from stack-data->ipython>=6.1.0->ipywidgets) (0.2.2)\n",
      "Requirement already satisfied: six>=1.12.0 in /Users/nikidis/Documents/GitHub/Tutorials/.venv/lib/python3.12/site-packages (from asttokens>=2.1.0->stack-data->ipython>=6.1.0->ipywidgets) (1.16.0)\n"
     ]
    }
   ],
   "source": [
    "!pip install netCDF4\n",
    "!pip install matplotlib\n",
    "!pip install shapely\n",
    "!pip install numpy\n",
    "!pip install ipywidgets"
   ]
  },
  {
   "cell_type": "markdown",
   "metadata": {},
   "source": [
    "## 1.2 Downloading the netCDF data."
   ]
  },
  {
   "cell_type": "code",
   "execution_count": 17,
   "metadata": {},
   "outputs": [
    {
     "name": "stdout",
     "output_type": "stream",
     "text": [
      "--2024-04-08 22:53:34--  https://cloud.cera.lsu.edu/s/frcZtNgANgdgCXP/download/maxele_contouring.63.nc\n",
      "Resolving cloud.cera.lsu.edu (cloud.cera.lsu.edu)... 130.39.22.133\n",
      "Connecting to cloud.cera.lsu.edu (cloud.cera.lsu.edu)|130.39.22.133|:443... connected.\n",
      "HTTP request sent, awaiting response... 200 OK\n",
      "Length: 8418147 (8,0M) [application/octet-stream]\n",
      "Saving to: ‘maxele_contouring.63.nc’\n",
      "\n",
      "maxele_contouring.6 100%[===================>]   8,03M  5,86MB/s    in 1,4s    \n",
      "\n",
      "2024-04-08 22:53:36 (5,86 MB/s) - ‘maxele_contouring.63.nc’ saved [8418147/8418147]\n",
      "\n"
     ]
    }
   ],
   "source": [
    "!wget https://cloud.cera.lsu.edu/s/frcZtNgANgdgCXP/download/maxele_contouring.63.nc"
   ]
  },
  {
   "cell_type": "markdown",
   "metadata": {},
   "source": [
    "# Part 2: Data Import"
   ]
  },
  {
   "cell_type": "markdown",
   "metadata": {},
   "source": [
    "## 2.1 - Importing Necessary libraries\n"
   ]
  },
  {
   "cell_type": "code",
   "execution_count": 18,
   "metadata": {},
   "outputs": [],
   "source": [
    "# importing libraries\n",
    "import os, sys\n",
    "import netCDF4\n",
    "import matplotlib.pyplot as plt\n",
    "import matplotlib.tri as tri\n",
    "from matplotlib import path\n",
    "from shapely.geometry import geo, Polygon, Point, MultiPolygon\n",
    "import numpy\n",
    "from operator import itemgetter\n",
    "import ipywidgets as widgets\n",
    "from IPython.display import display\n",
    "from ipywidgets import interact"
   ]
  },
  {
   "cell_type": "markdown",
   "metadata": {},
   "source": [
    "## 2.2 - Opening a NetCDF file \n",
    "\n",
    "```python\n",
    "gridfile = \"maxele_contouring.63.nc\"\n",
    "```\n",
    "- This line of code assigns the string \"maxele_contouring.63.nc\" to the variable `gridfile`. This string is presumably the name of the netCDF file that contains the grid data.\n",
    "\n",
    "```python\n",
    "gridvars = netCDF4.Dataset(gridfile).variables\n",
    "```\n",
    "- This line uses the `netCDF4.Dataset` function to open the netCDF file specified by `gridfile`. The `Dataset` function returns a `Dataset` object that represents the netCDF file. The `.variables` attribute of a `Dataset` object is a dictionary that contains all the variables in the netCDF file. This dictionary is assigned to the `gridvars` variable."
   ]
  },
  {
   "cell_type": "code",
   "execution_count": 19,
   "metadata": {},
   "outputs": [],
   "source": [
    "# Read x,y from the grid file or the input file if grid is not given\n",
    "gridfile = \"maxele_contouring.63.nc\"\n",
    "gridvars = netCDF4.Dataset(gridfile).variables"
   ]
  },
  {
   "cell_type": "markdown",
   "metadata": {},
   "source": [
    "## 2.3 - Extracting and Validating Grid Variables from NetCDF File"
   ]
  },
  {
   "cell_type": "markdown",
   "metadata": {},
   "source": [
    "Let's read 'x', 'y', and 'element' (or 'lon', 'lat', and 'ele' if the former are not present) data from the netCDF file stored in `gridvars`, adjusting the element indexing from 1-based to 0-based. \n",
    "\n",
    "We can also check if any of these data arrays are `None`, and if so, print an error message and exit the program."
   ]
  },
  {
   "cell_type": "code",
   "execution_count": 20,
   "metadata": {},
   "outputs": [],
   "source": [
    "# Get variable names for x, y depending on grid\n",
    "if 'x' in gridvars:\n",
    "    var_x = 'x'\n",
    "    var_y = 'y'\n",
    "    var_element = 'element'\n",
    "else:\n",
    "    var_x = 'lon'\n",
    "    var_y = 'lat'\n",
    "    var_element = 'ele'\n",
    "\n",
    "# Read x, y, and elements from the grid file\n",
    "x = gridvars[var_x][:]\n",
    "y = gridvars[var_y][:]\n",
    "\n",
    "elems = gridvars[var_element][:, :] - 1  # Move to 0-indexing by subtracting 1, elements indexing starts with '1' in netcdf file\n",
    "\n",
    "if x is None or y is None or elems is None:\n",
    "    print(\"*** ERROR *** No 'x (lon)', 'y (lat)', or 'element (ele)' data array given in file '%s'\" % gridfile)\n",
    "    sys.exit(-1)"
   ]
  },
  {
   "cell_type": "markdown",
   "metadata": {},
   "source": [
    "The `gridvars.keys()` method returns a view object that displays a list of all keys in the `gridvars` dictionary.\n",
    "\n",
    "`gridvars` is expected to be a dictionary where each key-value pair represents a variable from a netCDF dataset. The keys are the variable names, and the values are the corresponding Variable objects. \n",
    "\n",
    "`print(gridvars.keys())` is printing the names of all the variables in the netCDF dataset. This could be useful for understanding what data is available in the dataset, for debugging, or for logging."
   ]
  },
  {
   "cell_type": "code",
   "execution_count": 21,
   "metadata": {},
   "outputs": [
    {
     "name": "stdout",
     "output_type": "stream",
     "text": [
      "{'time': <class 'netCDF4._netCDF4.Variable'>\n",
      "float64 time(time)\n",
      "    long_name: model time\n",
      "    standard_name: time\n",
      "    units: seconds since 2014-04-07 00:00:00\n",
      "    base_date: 2014-04-07 00:00:00\n",
      "unlimited dimensions: time\n",
      "current shape = (1,)\n",
      "filling on, default _FillValue of 9.969209968386869e+36 used, 'x': <class 'netCDF4._netCDF4.Variable'>\n",
      "float64 x(node)\n",
      "    long_name: longitude\n",
      "    standard_name: longitude\n",
      "    units: degrees_east\n",
      "    positive: east\n",
      "unlimited dimensions: \n",
      "current shape = (295328,)\n",
      "filling on, default _FillValue of 9.969209968386869e+36 used, 'y': <class 'netCDF4._netCDF4.Variable'>\n",
      "float64 y(node)\n",
      "    long_name: latitude\n",
      "    standard_name: latitude\n",
      "    units: degrees_north\n",
      "    positive: north\n",
      "unlimited dimensions: \n",
      "current shape = (295328,)\n",
      "filling on, default _FillValue of 9.969209968386869e+36 used, 'element': <class 'netCDF4._netCDF4.Variable'>\n",
      "int32 element(nele, nvertex)\n",
      "    long_name: element\n",
      "    standard_name: face_node_connectivity\n",
      "    start_index: 1\n",
      "    units: nondimensional\n",
      "unlimited dimensions: \n",
      "current shape = (575512, 3)\n",
      "filling on, default _FillValue of -2147483647 used, 'adcirc_mesh': <class 'netCDF4._netCDF4.Variable'>\n",
      "int32 adcirc_mesh(mesh)\n",
      "    long_name: mesh_topology\n",
      "    standard_name: mesh_topology\n",
      "    dimension: 2\n",
      "    node_coordinates: x y\n",
      "    face_node_connectivity: element\n",
      "unlimited dimensions: \n",
      "current shape = (1,)\n",
      "filling on, default _FillValue of -2147483647 used, 'neta': <class 'netCDF4._netCDF4.Variable'>\n",
      "int32 neta()\n",
      "    long_name: total number of elevation specified boundary nodes\n",
      "    units: nondimensional\n",
      "unlimited dimensions: \n",
      "current shape = ()\n",
      "filling on, default _FillValue of -2147483647 used, 'nvdll': <class 'netCDF4._netCDF4.Variable'>\n",
      "int32 nvdll(nope)\n",
      "    long_name: number of nodes in each elevation specified boundary segment\n",
      "    units: nondimensional\n",
      "unlimited dimensions: \n",
      "current shape = (1,)\n",
      "filling on, default _FillValue of -2147483647 used, 'max_nvdll': <class 'netCDF4._netCDF4.Variable'>\n",
      "int32 max_nvdll()\n",
      "unlimited dimensions: \n",
      "current shape = ()\n",
      "filling on, default _FillValue of -2147483647 used, 'ibtypee': <class 'netCDF4._netCDF4.Variable'>\n",
      "int32 ibtypee(nope)\n",
      "    long_name: elevation boundary type\n",
      "    units: nondimensional\n",
      "unlimited dimensions: \n",
      "current shape = (1,)\n",
      "filling on, default _FillValue of -2147483647 used, 'nbdv': <class 'netCDF4._netCDF4.Variable'>\n",
      "int32 nbdv(max_nvdll, nope)\n",
      "    long_name: node numbers on each elevation specified boundary segment\n",
      "    units: nondimensional\n",
      "unlimited dimensions: \n",
      "current shape = (103, 1)\n",
      "filling on, default _FillValue of -2147483647 used, 'nvel': <class 'netCDF4._netCDF4.Variable'>\n",
      "int32 nvel()\n",
      "    long_name: total number of normal flow specified boundary nodes including both the front and back nodes on internal barrier boundaries\n",
      "    units: nondimensional\n",
      "unlimited dimensions: \n",
      "current shape = ()\n",
      "filling on, default _FillValue of -2147483647 used, 'nvell': <class 'netCDF4._netCDF4.Variable'>\n",
      "int32 nvell(nbou)\n",
      "    long_name: number of nodes in each normal flow specified boundary segment\n",
      "    units: nondimensional\n",
      "unlimited dimensions: \n",
      "current shape = (151,)\n",
      "filling on, default _FillValue of -2147483647 used, 'max_nvell': <class 'netCDF4._netCDF4.Variable'>\n",
      "int32 max_nvell()\n",
      "unlimited dimensions: \n",
      "current shape = ()\n",
      "filling on, default _FillValue of -2147483647 used, 'ibtype': <class 'netCDF4._netCDF4.Variable'>\n",
      "int32 ibtype(nbou)\n",
      "    long_name: type of normal flow (discharge) boundary\n",
      "    units: nondimensional\n",
      "unlimited dimensions: \n",
      "current shape = (151,)\n",
      "filling on, default _FillValue of -2147483647 used, 'nbvv': <class 'netCDF4._netCDF4.Variable'>\n",
      "int32 nbvv(max_nvell, nbou)\n",
      "    long_name: node numbers on normal flow boundary segment\n",
      "    units: nondimensional\n",
      "unlimited dimensions: \n",
      "current shape = (18760, 151)\n",
      "filling on, default _FillValue of -2147483647 used, 'depth': <class 'netCDF4._netCDF4.Variable'>\n",
      "float64 depth(node)\n",
      "    long_name: distance  below geoid\n",
      "    standard_name: depth below geoid\n",
      "    coordinates: time y x\n",
      "    location: node\n",
      "    mesh: adcirc_mesh\n",
      "    units: m\n",
      "unlimited dimensions: \n",
      "current shape = (295328,)\n",
      "filling on, default _FillValue of 9.969209968386869e+36 used, 'zeta_max': <class 'netCDF4._netCDF4.Variable'>\n",
      "float64 zeta_max(node)\n",
      "    long_name: maximum water surface elevationabove geoid\n",
      "    standard_name: maximum_sea_surface_height_above_geoid\n",
      "    coordinates: y x\n",
      "    location: node\n",
      "    mesh: adcirc_mesh\n",
      "    units: metric\n",
      "    _FillValue: -99999.0\n",
      "unlimited dimensions: \n",
      "current shape = (295328,)\n",
      "filling on}\n",
      "dict_keys(['time', 'x', 'y', 'element', 'adcirc_mesh', 'neta', 'nvdll', 'max_nvdll', 'ibtypee', 'nbdv', 'nvel', 'nvell', 'max_nvell', 'ibtype', 'nbvv', 'depth', 'zeta_max'])\n"
     ]
    }
   ],
   "source": [
    "print(gridvars)\n",
    "print(gridvars.keys())"
   ]
  },
  {
   "cell_type": "markdown",
   "metadata": {},
   "source": [
    "## 2.4 - Extracting and Validating Attribute Data from NetCDF File"
   ]
  },
  {
   "cell_type": "markdown",
   "metadata": {},
   "source": [
    "Reading the 'zeta_max' data array from a netCDF file stored in `gridvars`. If the data array is `None` or contains multiple time steps, print an appropriate message and either exits the program or extract the first time step, respectively."
   ]
  },
  {
   "cell_type": "code",
   "execution_count": 22,
   "metadata": {},
   "outputs": [],
   "source": [
    "# Read the 'attribute name' data array from the input file\n",
    "\n",
    "attrname = \"zeta_max\"\n",
    "\n",
    "data = gridvars[attrname][:]\n",
    "\n",
    "if data is None:\n",
    "    print(\"*** ERROR *** No '%s' data array given in file '%s'\" % (attrname, infile))\n",
    "    sys.exit(-1)\n",
    "\n",
    "# Timesteps layer\n",
    "if len(data.shape) > 1:\n",
    "    print(\"*** The data file contains multiple time steps. The first time step (0) will be extracted.\")\n",
    "    data = data[0]"
   ]
  },
  {
   "cell_type": "markdown",
   "metadata": {},
   "source": [
    "# Part 3: Defining essential functions"
   ]
  },
  {
   "cell_type": "markdown",
   "metadata": {},
   "source": [
    "## 3.1 - Calculating signed area of a polygon"
   ]
  },
  {
   "cell_type": "markdown",
   "metadata": {},
   "source": [
    "Our next step is creating a usefull function that calculates and returns the signed area of a polygon, represented by the input `ring`, by using the cross product method and numpy operations for efficient computation."
   ]
  },
  {
   "cell_type": "code",
   "execution_count": 23,
   "metadata": {},
   "outputs": [],
   "source": [
    "def signed_area(ring):\n",
    "    v2 = numpy.roll(ring, -1, axis=0)\n",
    "    return numpy.cross(ring, v2).sum() / 2.0"
   ]
  },
  {
   "cell_type": "markdown",
   "metadata": {},
   "source": [
    "The first line inside the function, `v2 = numpy.roll(ring, -1, axis=0)`, uses the `numpy.roll` function to shift the elements in the `ring` array along the first axis (axis=0). The shift is by -1, which means each element is moved one place towards the beginning of the array. The last element is moved to the first place. This operation effectively gives us a new array where each element is the next point in the polygon relative to the corresponding element in the original `ring` array.\n",
    "\n",
    "The second line, `return numpy.cross(ring, v2).sum() / 2.0`, calculates the signed area of the polygon. The `numpy.cross` function is used to calculate the cross product of the original points and their \"next\" points. This gives us the signed area of the parallelogram formed by each point and its next point. The cross product is positive if the points are in counterclockwise order and negative if they are in clockwise order. \n"
   ]
  },
  {
   "cell_type": "markdown",
   "metadata": {},
   "source": [
    "## 3.2 - Classifying polygons"
   ]
  },
  {
   "cell_type": "markdown",
   "metadata": {},
   "source": [
    "The function `classify_polygons(polys)` is designed to classify a list of polygons into two categories: exterior and interior polygons. \n",
    "\n",
    "The parameter `polys` is expected to be a list of polygons, where each polygon is represented as a 2D numpy array of points."
   ]
  },
  {
   "cell_type": "code",
   "execution_count": 24,
   "metadata": {},
   "outputs": [],
   "source": [
    "def classify_polygons(polys):\n",
    "    exteriors = []\n",
    "    interiors = []\n",
    "    for p in polys:\n",
    "        if signed_area(p) >= 0:\n",
    "            exteriors.append(p)\n",
    "        else:\n",
    "            interiors.append(p)\n",
    "\n",
    "    return exteriors, interiors"
   ]
  },
  {
   "cell_type": "markdown",
   "metadata": {},
   "source": [
    "Two empty lists, `exteriors` and `interiors`, are initialized at the start of the function. These lists will hold the exterior and interior polygons, respectively.\n",
    "\n",
    "The function then iterates over each polygon `p` in the `polys` list. For each polygon, it calculates the signed area using the `signed_area(p)` function. The signed area is a measure that is positive for polygons oriented counterclockwise and negative for polygons oriented clockwise.\n",
    "\n",
    "If the signed area of a polygon is greater than or equal to 0, it means the polygon is oriented counterclockwise and is considered an exterior polygon. In this case, the polygon `p` is appended to the `exteriors` list using the `append()` method.\n",
    "\n",
    "If the signed area of a polygon is less than 0, it means the polygon is oriented clockwise and is considered an interior polygon. In this case, the polygon `p` is appended to the `interiors` list.\n",
    "\n",
    "Finally, the function returns a tuple containing the `exteriors` and `interiors` lists. This allows you to separate the input polygons into exterior and interior polygons based on their orientation."
   ]
  },
  {
   "cell_type": "markdown",
   "metadata": {},
   "source": [
    "## 3.3 - Checking Points Within a Polygon"
   ]
  },
  {
   "cell_type": "markdown",
   "metadata": {},
   "source": [
    "The function `points_inside_poly(points, polygon)` is a Python function that checks if a set of points are inside a given polygon. \n",
    "\n",
    "The function takes two parameters: `points` and `polygon`. `points` is expected to be an array of coordinates, where each coordinate is represented as a two-element list or tuple (for x and y values). `polygon` is expected to be a list of coordinates that define the vertices of the polygon.\n"
   ]
  },
  {
   "cell_type": "code",
   "execution_count": 25,
   "metadata": {},
   "outputs": [],
   "source": [
    "def points_inside_poly(points, polygon):\n",
    "    p = path.Path(polygon)\n",
    "    return p.contains_points(points)"
   ]
  },
  {
   "cell_type": "markdown",
   "metadata": {},
   "source": [
    "The function then returns the result of the `contains_points(points)` method called on the `Path` object `p`. This method checks if the points specified in the `points` parameter are contained within the polygon represented by the `Path` object. It returns a boolean array of length N (where N is the number of points), with each element indicating whether the corresponding point is inside the polygon (True) or not (False)."
   ]
  },
  {
   "cell_type": "markdown",
   "metadata": {},
   "source": [
    "## 3.4 - Reversing the order of elements"
   ]
  },
  {
   "cell_type": "markdown",
   "metadata": {},
   "source": [
    "The function `reverse_geometry(p)` is a Python function that reverses the order of elements in an array-like object along the vertical axis (up/down). \n",
    "\n",
    "The function takes one parameter, `p`, which is expected to be an array-like object. This could be a list, tuple, or a NumPy array. The function is designed to work with multi-dimensional arrays, but it can also handle 1-dimensional arrays.\n",
    "\n",
    "Inside the function, the NumPy function `numpy.flipud(p)` is called with `p` as its argument. The `flipud` function stands for \"flip up/down\" and it reverses the order of the rows in a 2-D array. For a 1-D array, it simply reverses the order of the elements. \n"
   ]
  },
  {
   "cell_type": "code",
   "execution_count": 26,
   "metadata": {},
   "outputs": [],
   "source": [
    "def reverse_geometry(p):\n",
    "    return numpy.flipud(p)"
   ]
  },
  {
   "cell_type": "markdown",
   "metadata": {},
   "source": [
    "The result of the `flipud` function is then returned by the `reverse_geometry` function. "
   ]
  },
  {
   "cell_type": "markdown",
   "metadata": {},
   "source": [
    "## 3.5 - Geometry extraction\n",
    "This Python function `extract_geometries` is used to extract geometrical data from a contour plot. The contour plot is passed as the first argument, while `data_min` and `data_max` are the minimum and maximum data values respectively."
   ]
  },
  {
   "cell_type": "code",
   "execution_count": 27,
   "metadata": {},
   "outputs": [],
   "source": [
    "def extract_geometries(contour, data_min, data_max):\n",
    "  geoms = []\n",
    "  vars = []\n",
    "\n",
    "  # create list of tuples (geom, vmin, vmax)\n",
    "  num_collections = len(contour.collections)\n",
    "  for colli, coll in enumerate(contour.collections):\n",
    "\n",
    "    # tricontourf generates extra collections for all geometries below\n",
    "    # and above the given levels\n",
    "    if colli == 0:\n",
    "      vmin, vmax = data_min, contour.levels[colli]\n",
    "    elif colli == num_collections-1:\n",
    "      vmin, vmax = contour.levels[colli-1], data_max\n",
    "    else:\n",
    "      vmin, vmax = contour.levels[colli-1:colli+1]\n",
    "\n",
    "    for p in coll.get_paths():\n",
    "      p.simplify_threshold = 0.0\n",
    "      polys = p.to_polygons()\n",
    "\n",
    "      # don't append an empty polygon to the geometry or it will mess up\n",
    "      # the indexing\n",
    "      if polys:\n",
    "        # remove all geometries with less than 3 points\n",
    "        polys = [p for p in polys if p.shape[0] >= 3]\n",
    "\n",
    "        # exteriors and interiors can be in any order (an exterior is not\n",
    "        # necessarily followed by its interiors - test it!)\n",
    "        exteriors, interiors = classify_polygons(polys)\n",
    "        if len(interiors) > 0:\n",
    "          interior_points = [pts[0] for pts in interiors]\n",
    "\n",
    "        overall_inout = numpy.zeros((len(interiors),), dtype=bool)\n",
    "\n",
    "        for exterior in exteriors:\n",
    "          if len(interiors) > 0:\n",
    "            inout = points_inside_poly(interior_points, exterior)\n",
    "            overall_inout = numpy.logical_or(overall_inout, inout)\n",
    "\n",
    "            my_interiors = [g for i, g in enumerate(interiors) if inout[i]]\n",
    "            poly = Polygon(exterior, my_interiors)\n",
    "\n",
    "          else:\n",
    "            poly = Polygon(exterior)\n",
    "\n",
    "          # clean-up polygons (remove intersections)\n",
    "          if not poly.is_valid:\n",
    "            poly = poly.buffer(0.0)\n",
    "\n",
    "          geoms.append(poly)\n",
    "          vars.append((vmin, vmax))\n",
    "\n",
    "        # collect all interiors which do not belong to any of the exteriors\n",
    "        outer_interiors = [interior for i, interior in enumerate(interiors) if not overall_inout[i]]\n",
    "        for geom in outer_interiors:\n",
    "          poly = Polygon(reverse_geometry(geom))\n",
    "\n",
    "          # clean-up polygons (remove intersections)\n",
    "          if not poly.is_valid:\n",
    "            poly = poly.buffer(0.0)\n",
    "\n",
    "          geoms.append(poly)\n",
    "          vars.append((vmin, vmax))\n",
    "\n",
    "  return geoms, vars"
   ]
  },
  {
   "cell_type": "markdown",
   "metadata": {},
   "source": [
    "## 3.6 - Interactive plotting\n",
    "\n",
    "This Python code is used to create an interactive plot using the `matplotlib` and `ipywidgets` libraries. The plot is based on a triangulation of data points, and the color of each triangle is determined by the corresponding data value."
   ]
  },
  {
   "cell_type": "code",
   "execution_count": 28,
   "metadata": {},
   "outputs": [
    {
     "data": {
      "application/vnd.jupyter.widget-view+json": {
       "model_id": "4b66ae34331b4bd79d72d0d74e2f48e4",
       "version_major": 2,
       "version_minor": 0
      },
      "text/plain": [
       "interactive(children=(IntSlider(value=2, description='Max_Level', max=10, min=1), IntSlider(value=16, descript…"
      ]
     },
     "metadata": {},
     "output_type": "display_data"
    },
    {
     "data": {
      "text/plain": [
       "<function __main__.interactive_plot(Max_Level, Intervals)>"
      ]
     },
     "execution_count": 28,
     "metadata": {},
     "output_type": "execute_result"
    }
   ],
   "source": [
    "\n",
    "def interactive_plot(Max_Level, Intervals):\n",
    "    # matplotlib: triangulation\n",
    "    triang = tri.Triangulation(x, y, triangles=elems)\n",
    "    # check if data array is masked\n",
    "    try:\n",
    "        if data.mask.any():\n",
    "            # -99999 entries in 'data' array are usually masked, mask all corresponding triangles\n",
    "            point_mask_indices = numpy.where(data.mask)\n",
    "            tri_mask = numpy.any(numpy.in1d(elems, point_mask_indices).reshape(-1, 3), axis=1)\n",
    "            triang.set_mask(tri_mask)\n",
    "\n",
    "    except AttributeError:\n",
    "        # the \"mask\" attribute was not found, assume that no -99999 values are in the dataset\n",
    "        print(\"No 'mask' attribute found in file '%s'\" % infile)\n",
    "\n",
    "    levels = numpy.linspace(0, Max_Level, num=Intervals)\n",
    "    # print(\"levels: %s\\n\" % levels)\n",
    "\n",
    "    # Matplotlib: Color plot\n",
    "    c = plt.tricontourf(triang, data, levels=levels, cmap=plt.cm.jet, extend='both')\n",
    "    c.cmap.set_under(\"#000066\")\n",
    "    c.cmap.set_over(\"#880066\")\n",
    "    plt.colorbar(c, ticks=levels)\n",
    "    plt.show()\n",
    "\n",
    "# Create sliders for maxlevel and Intervals\n",
    "maxlevel_slider = widgets.IntSlider(min=1, max=10, step=1, value=2)#max data value\n",
    "Intervals_slider = widgets.IntSlider(min=2, max=30, step=1, value=16)#number of colors\n",
    "\n",
    "# Use interact function to automatically create UI\n",
    "interact(interactive_plot, Max_Level=maxlevel_slider, Intervals=Intervals_slider)"
   ]
  }
 ],
 "metadata": {
  "kernelspec": {
   "display_name": ".venv",
   "language": "python",
   "name": "python3"
  },
  "language_info": {
   "codemirror_mode": {
    "name": "ipython",
    "version": 3
   },
   "file_extension": ".py",
   "mimetype": "text/x-python",
   "name": "python",
   "nbconvert_exporter": "python",
   "pygments_lexer": "ipython3",
   "version": "3.12.1"
  }
 },
 "nbformat": 4,
 "nbformat_minor": 2
}
