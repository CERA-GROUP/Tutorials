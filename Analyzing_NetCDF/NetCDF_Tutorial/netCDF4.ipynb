{
 "cells": [
  {
   "cell_type": "markdown",
   "metadata": {},
   "source": [
    "\n",
    "<table>\n",
    "    <tr>\n",
    "        <td><img src='https://coastalrisk.live/wp-content/uploads/2018/05/cera_50x50.png' alt='Image' width='50' height=50'></td>\n",
    "        <td><h1 align=\"left\"><font color='green'>Unveiling the Storm: A Beginner's Guide toAnalyzing NetCDF Data with Python for<br>Coastal Emergency Risks Assessment (CERA)</font></h1></td>\n",
    "    </tr>\n",
    "</table>"
   ]
  },
  {
   "cell_type": "markdown",
   "metadata": {},
   "source": [
    "<p align=\"center\">\n",
    "  <img src=\"https://cloud.cera.lsu.edu/s/pCmmXMCmR4GMXja/download/1_Intro.png\" alt=\"Image Description\">\n",
    "</p>"
   ]
  },
  {
   "cell_type": "markdown",
   "metadata": {},
   "source": [
    "# Table of Contents\n",
    "\n",
    "- [Part 1: Introduction](#part-1-introduction)\n",
    "  - [1.1 - What is NetCDF?](#11---what-is-netcdf)\n",
    "  - [1.2 - Software Installation](#12---software-installation)\n",
    "  - [1.3 - Tutorial example NetCDF file](#13---tutorial-example-netcdf-file)\n",
    "\n",
    "- [Part 2: Reading a NetCDF File and Understanding its Structure](#part-2-reading-a-netcdf-file-and-understanding-its-structure)\n",
    "  - [2.1 - Opening a NetCDF file](#21---opening-a-netcdf-file)\n",
    "  - [2.2 - NetCDF file structure](#22---netcdf-file-structure)\n",
    "\n",
    "- [Part 3: Getting the NetCDF File Attributes (Metadata)](#part-3-getting-the-netcdf-file-attributes-metadata)\n",
    "  - [3.1 - Dataset attributes (metadata)](#31---dataset-attributes-metadata)\n",
    "  - [3.2 - Utilizing the Python dictionary structure for working with NetCDF](#32---utilizing-the-python-dictionary-structure-for-working-with-netcdf)\n",
    "  - [3.3 - Variable attributes (metadata)](#33---variable-attributes-metadata)\n",
    "  - [3.4 - Dimensions attributes (metadata)](#34---dimensions-attributes-metadata)\n",
    "\n",
    "- [Part 4: Accessing the NetCDF Data Values](#part-4-accessing-the-netcdf-data-values)\n",
    "    - [4.1 - Parsing the data values from the NetCDF variables](#41---parsing-the-data-values-from-the-netcdf-variables)\n",
    "    - [4.2 - Further work with NumPy](#42---further-work-with-numpy)\n",
    "\n",
    ">Disclaimer: If you are running through google Colab please use the table of contents from the top left corner.\n"
   ]
  },
  {
   "cell_type": "markdown",
   "metadata": {},
   "source": [
    "# Part 1: Introduction\n",
    "Scientific geospatial datasets like climatological or oceanographic model results can sometimes grow in complexity and data volume very quickly. It can become very \n",
    "challenging to work with the huge amount of outputs if the data is simulated over large geographic regions or is generated multiple times per day. The NetCDF format provides \n",
    "a solution for efficient data management by storing the datasets in a well-organized manner that allows a successful data analysis in a user-friendly way. This tutorial \n",
    "explains the structure of a NetCDF file using the Python library NetCDF4.\n",
    "\n"
   ]
  },
  {
   "cell_type": "markdown",
   "metadata": {},
   "source": [
    "##  What is the structure of NetCDF and how to work with it?\n"
   ]
  },
  {
   "cell_type": "markdown",
   "metadata": {},
   "source": [
    "Analyzing NetCDF Data with Python is a beginners-friendly guide for learning the basics of reading and analyzing NetCDF using the Python library netCDF4. \n",
    "All sections of this four-part tutorial are available as a Jupyter Notebook utilizing the Python programming language and an example NetCDF file from the ADCIRC ocean circulation model. \n"
   ]
  },
  {
   "cell_type": "markdown",
   "metadata": {},
   "source": [
    "## 1.1 - What is NetCDF?\n"
   ]
  },
  {
   "cell_type": "markdown",
   "metadata": {},
   "source": [
    "#### About NetCDF\n",
    "Network common data form (NetCDF) is a data format that is widely used to store multi-dimensional, array-oriented information like geographic, meteorological or oceanographic data. \n",
    "NetCDF often handles huge datasets that hold spatial information and data values sampled several times a day or collected over large geographic regions. \n",
    "The NetCDF file format structure supports this by providing the data values as named arrays that also can hold metadata to describe the dataset."
   ]
  },
  {
   "cell_type": "markdown",
   "metadata": {},
   "source": [
    "#### NetCDF in Python\n",
    "Python provides the powerful NetCDF4 and NumPy libraries that have all the functionalities we need to successfully work with a NetCDF file.\n"
   ]
  },
  {
   "cell_type": "markdown",
   "metadata": {},
   "source": [
    "## 1.2 - Software Installation\n"
   ]
  },
  {
   "cell_type": "markdown",
   "metadata": {},
   "source": [
    "### Installing Jupyter Notebook\n",
    "\n",
    "Here are listed the various options for installing jupyter notebook in your system. Please choose according to your system requirments and personal preference. \n",
    "\n",
    "- [Installing the classic Jupyter Notebook interface](https://docs.jupyter.org/en/latest/install/notebook-classic.html)\n",
    "- [Installing the JupyterLab](https://jupyterlab.readthedocs.io/en/stable/getting_started/installation.html)\n"
   ]
  },
  {
   "cell_type": "markdown",
   "metadata": {},
   "source": [
    "#### Our prefered way of working is using [Viusal Studio Code](https://code.visualstudio.com/download)\n",
    "The general instruction are [here](https://code.visualstudio.com/docs/datascience/jupyter-notebooks) using the extension provided by Microsoft [Jupyter](https://marketplace.visualstudio.com/items?itemName=ms-toolsai.jupyter).\n"
   ]
  },
  {
   "cell_type": "markdown",
   "metadata": {},
   "source": [
    "Install the [Python extension](https://marketplace.visualstudio.com/items?itemName=ms-python.python) and create a venv or conda virtual enviroment so you can keep your Global/OS python install clean of unwanted packages. You can use editor commands in vscode.\n",
    "- (Ctrl+Shift+P) for Windows and Linux. \n",
    "- (⇧⌘P) for Mac.\n"
   ]
  },
  {
   "cell_type": "markdown",
   "metadata": {},
   "source": [
    "Type \"Python: Create Enviroment\"\n"
   ]
  },
  {
   "cell_type": "markdown",
   "metadata": {},
   "source": [
    "Pick the prefered package manager / environment manager (conda or venv)"
   ]
  },
  {
   "cell_type": "markdown",
   "metadata": {},
   "source": [
    "Open any jupyter notebook file with the extentssion .ipynb in vscode"
   ]
  },
  {
   "cell_type": "markdown",
   "metadata": {},
   "source": [
    "From the top right corner pick as a kernel for this specific jupyter notebook file the enviroment created in the previous step."
   ]
  },
  {
   "cell_type": "markdown",
   "metadata": {},
   "source": [
    "### Standalone Installation\n"
   ]
  },
  {
   "cell_type": "markdown",
   "metadata": {},
   "source": [
    "For running the tutorial Python script examples using a command-line or terminal, the following software should be installed:\n",
    "\n",
    "- Python (version 3)\n",
    "- Numpy\n",
    "- NetCDF4\n"
   ]
  },
  {
   "cell_type": "code",
   "execution_count": 1,
   "metadata": {},
   "outputs": [
    {
     "name": "stdout",
     "output_type": "stream",
     "text": [
      "Requirement already satisfied: numpy in /Users/nikidis/Documents/GitHub/Tutorials/.venv/lib/python3.12/site-packages (1.26.4)\n",
      "Note: you may need to restart the kernel to use updated packages.\n"
     ]
    }
   ],
   "source": [
    "pip install numpy"
   ]
  },
  {
   "cell_type": "code",
   "execution_count": 2,
   "metadata": {},
   "outputs": [
    {
     "name": "stdout",
     "output_type": "stream",
     "text": [
      "Requirement already satisfied: netCDF4 in /Users/nikidis/Documents/GitHub/Tutorials/.venv/lib/python3.12/site-packages (1.6.5)\n",
      "Requirement already satisfied: cftime in /Users/nikidis/Documents/GitHub/Tutorials/.venv/lib/python3.12/site-packages (from netCDF4) (1.6.3)\n",
      "Requirement already satisfied: certifi in /Users/nikidis/Documents/GitHub/Tutorials/.venv/lib/python3.12/site-packages (from netCDF4) (2024.2.2)\n",
      "Requirement already satisfied: numpy in /Users/nikidis/Documents/GitHub/Tutorials/.venv/lib/python3.12/site-packages (from netCDF4) (1.26.4)\n",
      "Note: you may need to restart the kernel to use updated packages.\n"
     ]
    }
   ],
   "source": [
    "pip install netCDF4"
   ]
  },
  {
   "cell_type": "markdown",
   "metadata": {},
   "source": [
    "## 1.3 - Tutorial example NetCDF file\n"
   ]
  },
  {
   "cell_type": "markdown",
   "metadata": {},
   "source": [
    "In our exercise, we will use an example NetCDF file coming from the oceanographic ADCIRC model. The file contains the underlying mesh topology and the values for the maximum water elevation computed at each mesh node. \n",
    "The file is available in the directory of this script. Notebook/maxele.63.nc\n",
    ">The example data file was retrieved from the public adcirc.org examples page [webpage](https://adcirc.org/home/documentation/example-problems/shinnecock-inlet-ny-with-tidal-forcing-example/shinnecock-inlet-ny-with-tidal-forcing-results/)."
   ]
  },
  {
   "cell_type": "markdown",
   "metadata": {},
   "source": [
    "<p align=\"center\">\n",
    "  <img src=\"https://cloud.cera.lsu.edu/s/dWeEefFNWRgwpra/download/2.png\" />\n",
    "</p>"
   ]
  },
  {
   "cell_type": "code",
   "execution_count": 3,
   "metadata": {},
   "outputs": [
    {
     "name": "stdout",
     "output_type": "stream",
     "text": [
      "--2024-04-08 21:36:30--  https://cloud.cera.lsu.edu/s/7PfqfzWDj285Afw/download/maxele.63.nc\n",
      "Resolving cloud.cera.lsu.edu (cloud.cera.lsu.edu)... 130.39.22.133\n",
      "Connecting to cloud.cera.lsu.edu (cloud.cera.lsu.edu)|130.39.22.133|:443... connected.\n",
      "HTTP request sent, awaiting response... 200 OK\n",
      "Length: 149379 (146K) [application/octet-stream]\n",
      "Saving to: ‘maxele.63.nc.1’\n",
      "\n",
      "maxele.63.nc.1      100%[===================>] 145,88K   351KB/s    in 0,4s    \n",
      "\n",
      "2024-04-08 21:36:31 (351 KB/s) - ‘maxele.63.nc.1’ saved [149379/149379]\n",
      "\n"
     ]
    }
   ],
   "source": [
    "!wget https://cloud.cera.lsu.edu/s/7PfqfzWDj285Afw/download/maxele.63.nc"
   ]
  },
  {
   "cell_type": "markdown",
   "metadata": {},
   "source": [
    "# Part 2: Reading a NetCDF File and Understanding its Structure"
   ]
  },
  {
   "cell_type": "markdown",
   "metadata": {},
   "source": [
    "## 2.1 - Opening a NetCDF file "
   ]
  },
  {
   "cell_type": "code",
   "execution_count": 4,
   "metadata": {},
   "outputs": [],
   "source": [
    "# importing libraries\n",
    "import netCDF4\n",
    "import numpy as np"
   ]
  },
  {
   "cell_type": "markdown",
   "metadata": {},
   "source": [
    "This line of code is importing the NumPy library, which is a fundamental package for scientific computing in Python.\n",
    "\n",
    "```python\n",
    "import numpy as np\n",
    "\n",
    "```\n",
    "The `import` keyword is used to include external libraries or modules in your Python program. In this case, `numpy` is the module being imported.\n",
    "\n",
    "The `as` keyword is used to create an alias for the imported module. Here, `np` is the alias created for `numpy`. This means that when you want to use functions or attributes from the `numpy` module, you can use the prefix `np` instead of `numpy`.\n",
    "\n",
    "For example, to use the `array` function from the `numpy` module, you can now do so by calling `np.array()` instead of `numpy.array()`.\n",
    "```"
   ]
  },
  {
   "cell_type": "markdown",
   "metadata": {},
   "source": [
    "For reading in the NetCDF file, we will pass it to NetCDF4.Dataset.\n"
   ]
  },
  {
   "cell_type": "code",
   "execution_count": 5,
   "metadata": {},
   "outputs": [],
   "source": [
    "# reading in the NetCDF file\n",
    "mynetcdf = netCDF4.Dataset('maxele.63.nc')"
   ]
  },
  {
   "cell_type": "markdown",
   "metadata": {},
   "source": [
    "This line of code is using the `netCDF4` library in Python to open a netCDF file and assign it to a variable.\n",
    "\n",
    "```python\n",
    "mynetcdf = netCDF4.Dataset('../data/maxele.63.nc')\n",
    "```\n",
    "* `netCDF4` is a Python interface to the netCDF C library. netCDF (Network Common Data Form) is a set of software libraries and self-describing, machine-independent data formats that support the creation, access, and sharing of array-oriented scientific data.\n",
    "\n",
    "* The `Dataset` function is used to open a netCDF file. It takes as argument the path to the file you want to open. In this case, `'../data/maxele.63.nc'` is the relative path to the netCDF file. The `'..'` in the path refers to the parent directory, `data` is a subdirectory within the parent directory, and `maxele.63.nc` is the name of the netCDF file.\n",
    "\n",
    "* The opened netCDF file is assigned to the variable `mynetcdf`. This variable is now a `Dataset` object, and you can use it to access the data and metadata in the netCDF file. For example, you can get a list of the variables in the file with `mynetcdf.variables`, or access a specific variable with `mynetcdf.variables['varname']`.\n",
    "\n",
    "Now that we have loaded our file in Python, we can see how we can get the desired information out of it. For that, let’s have a look at the general structure of a NetCDF file first.\n"
   ]
  },
  {
   "cell_type": "markdown",
   "metadata": {},
   "source": [
    "## 2.2 - NetCDF file structure"
   ]
  },
  {
   "cell_type": "markdown",
   "metadata": {},
   "source": [
    "### A NetCDF file has three basic components:\n",
    "- **Attributes (Metadata)** that describe a) the dataset as a whole and b) all contained data variables or dimensions. \n",
    "- **Dimensions** are used to define the **shape** of the data variables (arrays) in the netCDF file.\n",
    "- **Variables** hold the actual **data values.**\n",
    "\n",
    ">- Variables store model output data like water heights, wind velocities, pressures etc. but also information like latitudes, longitudes, times etc. \n",
    ">- Each variable can also have attributes (metadata) that describe the data.\n",
    ">- The NetCDF format stores variables as arrays that are defined by unique variable names, data types, and array dimensions. \n",
    ">- Global attributes describe the entire dataset with metadata like project title, institution, contact information, program version etc.\n",
    ">- Variable attributes describe properties of the data variables like units, scaling factors, offsets etc\n",
    "\n",
    "\n",
    "\n",
    "How do we know what is in our NetCDF file?"
   ]
  },
  {
   "cell_type": "markdown",
   "metadata": {},
   "source": [
    "# Part 3: Getting the NetCDF File Attributes (Metadata)\n",
    "\n"
   ]
  },
  {
   "cell_type": "markdown",
   "metadata": {},
   "source": [
    "## 3.1 - Dataset attributes (metadata)"
   ]
  },
  {
   "cell_type": "markdown",
   "metadata": {},
   "source": [
    "When we print the entire NetCDF dataset (mynetcdf), we will get an overview of the file, including:\n",
    "- The global attributes describing the entire dataset\n",
    "- The dimensions defining the shape of the contained data arrays\n",
    "- The names of all data variables contained in the NetCDF file\n"
   ]
  },
  {
   "cell_type": "code",
   "execution_count": 6,
   "metadata": {},
   "outputs": [
    {
     "name": "stdout",
     "output_type": "stream",
     "text": [
      "<class 'netCDF4._netCDF4.Dataset'>\n",
      "root group (NETCDF4_CLASSIC data model, file format HDF5):\n",
      "    _FillValue: -99999.0\n",
      "    model: ADCIRC\n",
      "    version: 51.52.29\n",
      "    grid_type: Triangular\n",
      "    description: Shinnecock Inlet V20051108               ! UPTO 32 CHARACTER ALPHANUMERIC RUN D\n",
      "    agrid: Shinacock Inlet Coarse Grid\n",
      "    title: adcirc.org netcdf examples project\n",
      "    institution: UNC CH Institute of Marine Sciences\n",
      "    source: adcirc.org examples page\n",
      "    history: based on Shinnecock Inlet but with netcdf output\n",
      "    references: http://adcirc.org/home/documentation/example-problems/shinnecock-inlet-ny-with-t\n",
      "    comments: netcdf4 format was used (fully compatible with hdf5)\n",
      "    host: adcirc.org\n",
      "    convention: CF\n",
      "    Conventions: UGRID-0.9.0\n",
      "    contact: cfulcher@email.unc.edu\n",
      "    creation_date: 2015-12-14  4:18:28 -05:00\n",
      "    modification_date: 2015-12-14  4:18:28 -05:00\n",
      "    fort.15: ==== Input File Parameters (below) ====\n",
      "    dt: 6.0\n",
      "    ihot: 0\n",
      "    ics: 2\n",
      "    nolibf: 2\n",
      "    nolifa: 2\n",
      "    nolica: 1\n",
      "    nolicat: 1\n",
      "    nwp: 0\n",
      "    ncor: 1\n",
      "    ntip: 1\n",
      "    nws: 0\n",
      "    nramp: 0\n",
      "    tau0: 0.005\n",
      "    statim: 0.0\n",
      "    reftim: 0.0\n",
      "    rnday: 5.0\n",
      "    dramp: 2.0\n",
      "    a00: 0.35\n",
      "    b00: 0.3\n",
      "    c00: 0.35\n",
      "    h0: 0.05\n",
      "    slam0: -72.43\n",
      "    sfea0: 40.66\n",
      "    cf: 0.0025\n",
      "    eslm: 5.0\n",
      "    cori: 0.0001\n",
      "    ntif: 5\n",
      "    nbfr: 5\n",
      "    dimensions(sizes): time(1), node(3070), nele(5780), nvertex(3), nope(1), max_nvdll(75), nbou(1), max_nvell(570), mesh(1)\n",
      "    variables(dimensions): float64 time(time), float64 x(node), float64 y(node), int32 element(nele, nvertex), int32 adcirc_mesh(mesh), int32 neta(), int32 nvdll(nope), int32 max_nvdll(), int32 ibtypee(nope), int32 nbdv(max_nvdll, nope), int32 nvel(), int32 nvell(nbou), int32 max_nvell(), int32 ibtype(nbou), int32 nbvv(max_nvell, nbou), float64 depth(node), float64 zeta_max(node), float64 time_of_zeta_max(node)\n",
      "    groups: \n"
     ]
    }
   ],
   "source": [
    "# getting the attributes (metadata) of the file\n",
    "print(mynetcdf)"
   ]
  },
  {
   "cell_type": "markdown",
   "metadata": {},
   "source": [
    "With this information we can explore the variables and their dimensions in more depth. To get a better understanding of how that works, we will dive in to see how the NetCDF4 library reads in the NetCDF files in Python."
   ]
  },
  {
   "cell_type": "markdown",
   "metadata": {},
   "source": [
    "## 3.2 - Utilizing the Python dictionary structure for working with NetCDF\n"
   ]
  },
  {
   "cell_type": "markdown",
   "metadata": {},
   "source": [
    "When we read a NetCDF file with NetCDF4, the NetCDF variables and dimensions are represented as Python **dictionaries.** \n",
    "- The keys are the variable ‘names’.\n",
    "- The values are associated NumPy arrays that contain the data and any attributes. \n"
   ]
  },
  {
   "cell_type": "markdown",
   "metadata": {},
   "source": [
    "All NetCDF variables are read as **dictionaries** in the **[key/value]** structure with the values being NumPy arrays.\n",
    "- mynetcdf.variables  is a dictionary containing the variables\n",
    "- mynetcdf.dimensions  is a dictionary containing the dimensions of the variables\n",
    "\n",
    "Example of getting the list of variables through the Python dictionary structure.\n"
   ]
  },
  {
   "cell_type": "markdown",
   "metadata": {},
   "source": [
    "In **Part 3.1 - Dataset attributes (metadata)**, we have already explored how to get a list of all variable names contained in the NetCDF file by printing the entire dataset."
   ]
  },
  {
   "cell_type": "code",
   "execution_count": 7,
   "metadata": {},
   "outputs": [
    {
     "name": "stdout",
     "output_type": "stream",
     "text": [
      "<class 'netCDF4._netCDF4.Dataset'>\n",
      "root group (NETCDF4_CLASSIC data model, file format HDF5):\n",
      "    _FillValue: -99999.0\n",
      "    model: ADCIRC\n",
      "    version: 51.52.29\n",
      "    grid_type: Triangular\n",
      "    description: Shinnecock Inlet V20051108               ! UPTO 32 CHARACTER ALPHANUMERIC RUN D\n",
      "    agrid: Shinacock Inlet Coarse Grid\n",
      "    title: adcirc.org netcdf examples project\n",
      "    institution: UNC CH Institute of Marine Sciences\n",
      "    source: adcirc.org examples page\n",
      "    history: based on Shinnecock Inlet but with netcdf output\n",
      "    references: http://adcirc.org/home/documentation/example-problems/shinnecock-inlet-ny-with-t\n",
      "    comments: netcdf4 format was used (fully compatible with hdf5)\n",
      "    host: adcirc.org\n",
      "    convention: CF\n",
      "    Conventions: UGRID-0.9.0\n",
      "    contact: cfulcher@email.unc.edu\n",
      "    creation_date: 2015-12-14  4:18:28 -05:00\n",
      "    modification_date: 2015-12-14  4:18:28 -05:00\n",
      "    fort.15: ==== Input File Parameters (below) ====\n",
      "    dt: 6.0\n",
      "    ihot: 0\n",
      "    ics: 2\n",
      "    nolibf: 2\n",
      "    nolifa: 2\n",
      "    nolica: 1\n",
      "    nolicat: 1\n",
      "    nwp: 0\n",
      "    ncor: 1\n",
      "    ntip: 1\n",
      "    nws: 0\n",
      "    nramp: 0\n",
      "    tau0: 0.005\n",
      "    statim: 0.0\n",
      "    reftim: 0.0\n",
      "    rnday: 5.0\n",
      "    dramp: 2.0\n",
      "    a00: 0.35\n",
      "    b00: 0.3\n",
      "    c00: 0.35\n",
      "    h0: 0.05\n",
      "    slam0: -72.43\n",
      "    sfea0: 40.66\n",
      "    cf: 0.0025\n",
      "    eslm: 5.0\n",
      "    cori: 0.0001\n",
      "    ntif: 5\n",
      "    nbfr: 5\n",
      "    dimensions(sizes): time(1), node(3070), nele(5780), nvertex(3), nope(1), max_nvdll(75), nbou(1), max_nvell(570), mesh(1)\n",
      "    variables(dimensions): float64 time(time), float64 x(node), float64 y(node), int32 element(nele, nvertex), int32 adcirc_mesh(mesh), int32 neta(), int32 nvdll(nope), int32 max_nvdll(), int32 ibtypee(nope), int32 nbdv(max_nvdll, nope), int32 nvel(), int32 nvell(nbou), int32 max_nvell(), int32 ibtype(nbou), int32 nbvv(max_nvell, nbou), float64 depth(node), float64 zeta_max(node), float64 time_of_zeta_max(node)\n",
      "    groups: \n"
     ]
    }
   ],
   "source": [
    "print(mynetcdf)"
   ]
  },
  {
   "cell_type": "markdown",
   "metadata": {},
   "source": [
    "Alternatively, we can access all variable names by calling the “keys()” of the variables dictionary. "
   ]
  },
  {
   "cell_type": "code",
   "execution_count": 8,
   "metadata": {},
   "outputs": [
    {
     "name": "stdout",
     "output_type": "stream",
     "text": [
      "dict_keys(['time', 'x', 'y', 'element', 'adcirc_mesh', 'neta', 'nvdll', 'max_nvdll', 'ibtypee', 'nbdv', 'nvel', 'nvell', 'max_nvell', 'ibtype', 'nbvv', 'depth', 'zeta_max', 'time_of_zeta_max'])\n"
     ]
    }
   ],
   "source": [
    "# getting all variables names as contained in the file by printing the dictionary ’keys’\n",
    "all_variable_names = mynetcdf.variables.keys()\n",
    "print(all_variable_names)"
   ]
  },
  {
   "cell_type": "markdown",
   "metadata": {},
   "source": [
    " The variable `mynetcdf` is assumed to be a netCDF Dataset object.\n",
    "\n",
    "* In the line `all_variable_names = mynetcdf.variables.keys()`, `mynetcdf.variables` is a dictionary where each key-value pair corresponds to a variable name and its associated data, respectively. The `.keys()` method is a built-in Python function that returns a view object displaying a list of all the keys in the dictionary. So, `mynetcdf.variables.keys()` will return all the variable names in the netCDF file. These variable names are then stored in the `all_variable_names` variable.\n",
    "\n",
    "* The next line, `print(all_variable_names)`, uses the Python built-in function `print` to output the list of variable names to the console. This is a quick way to inspect the variable names in a netCDF file.\n",
    "\n"
   ]
  },
  {
   "cell_type": "markdown",
   "metadata": {},
   "source": [
    "## 3.3 - Variable attributes (metadata)"
   ]
  },
  {
   "cell_type": "markdown",
   "metadata": {},
   "source": [
    "The NetCDF variables hold the actual data values of the dataset. Each variable can also contain associated attributes that describe the variable."
   ]
  },
  {
   "cell_type": "markdown",
   "metadata": {},
   "source": [
    "### List of all variable attributes in the file\n"
   ]
  },
  {
   "cell_type": "code",
   "execution_count": 9,
   "metadata": {},
   "outputs": [
    {
     "name": "stdout",
     "output_type": "stream",
     "text": [
      "<class 'netCDF4._netCDF4.Variable'>\n",
      "float64 time(time)\n",
      "    long_name: model time\n",
      "    standard_name: time\n",
      "    units: seconds since 2015-12-14 00:00:00 UTC\n",
      "    base_date: 2015-12-14 00:00:00 UTC\n",
      "unlimited dimensions: time\n",
      "current shape = (1,)\n",
      "filling on, default _FillValue of 9.969209968386869e+36 used\n",
      "<class 'netCDF4._netCDF4.Variable'>\n",
      "float64 x(node)\n",
      "    long_name: longitude\n",
      "    standard_name: longitude\n",
      "    units: degrees_east\n",
      "    positive: east\n",
      "unlimited dimensions: \n",
      "current shape = (3070,)\n",
      "filling on, default _FillValue of 9.969209968386869e+36 used\n",
      "<class 'netCDF4._netCDF4.Variable'>\n",
      "float64 y(node)\n",
      "    long_name: latitude\n",
      "    standard_name: latitude\n",
      "    units: degrees_north\n",
      "    positive: north\n",
      "unlimited dimensions: \n",
      "current shape = (3070,)\n",
      "filling on, default _FillValue of 9.969209968386869e+36 used\n",
      "<class 'netCDF4._netCDF4.Variable'>\n",
      "int32 element(nele, nvertex)\n",
      "    long_name: element\n",
      "    cf_role: face_node_connectivity\n",
      "    start_index: 1\n",
      "    units: nondimensional\n",
      "unlimited dimensions: \n",
      "current shape = (5780, 3)\n",
      "filling on, default _FillValue of -2147483647 used\n",
      "<class 'netCDF4._netCDF4.Variable'>\n",
      "int32 adcirc_mesh(mesh)\n",
      "    long_name: mesh_topology\n",
      "    cf_role: mesh_topology\n",
      "    topology_dimension: 2\n",
      "    node_coordinates: x y\n",
      "    face_node_connectivity: element\n",
      "unlimited dimensions: \n",
      "current shape = (1,)\n",
      "filling on, default _FillValue of -2147483647 used\n",
      "<class 'netCDF4._netCDF4.Variable'>\n",
      "int32 neta()\n",
      "    long_name: total number of elevation specified boundary nodes\n",
      "    units: nondimensional\n",
      "unlimited dimensions: \n",
      "current shape = ()\n",
      "filling on, default _FillValue of -2147483647 used\n",
      "<class 'netCDF4._netCDF4.Variable'>\n",
      "int32 nvdll(nope)\n",
      "    long_name: number of nodes in each elevation specified boundary segment\n",
      "    units: nondimensional\n",
      "unlimited dimensions: \n",
      "current shape = (1,)\n",
      "filling on, default _FillValue of -2147483647 used\n",
      "<class 'netCDF4._netCDF4.Variable'>\n",
      "int32 max_nvdll()\n",
      "unlimited dimensions: \n",
      "current shape = ()\n",
      "filling on, default _FillValue of -2147483647 used\n",
      "<class 'netCDF4._netCDF4.Variable'>\n",
      "int32 ibtypee(nope)\n",
      "    long_name: elevation boundary type\n",
      "    units: nondimensional\n",
      "unlimited dimensions: \n",
      "current shape = (1,)\n",
      "filling on, default _FillValue of -2147483647 used\n",
      "<class 'netCDF4._netCDF4.Variable'>\n",
      "int32 nbdv(max_nvdll, nope)\n",
      "    long_name: node numbers on each elevation specified boundary segment\n",
      "    units: nondimensional\n",
      "unlimited dimensions: \n",
      "current shape = (75, 1)\n",
      "filling on, default _FillValue of -2147483647 used\n",
      "<class 'netCDF4._netCDF4.Variable'>\n",
      "int32 nvel()\n",
      "    long_name: total number of normal flow specified boundary nodes including both the front and back nodes on internal barrier boundaries\n",
      "    units: nondimensional\n",
      "unlimited dimensions: \n",
      "current shape = ()\n",
      "filling on, default _FillValue of -2147483647 used\n",
      "<class 'netCDF4._netCDF4.Variable'>\n",
      "int32 nvell(nbou)\n",
      "    long_name: number of nodes in each normal flow specified boundary segment\n",
      "    units: nondimensional\n",
      "unlimited dimensions: \n",
      "current shape = (1,)\n",
      "filling on, default _FillValue of -2147483647 used\n",
      "<class 'netCDF4._netCDF4.Variable'>\n",
      "int32 max_nvell()\n",
      "unlimited dimensions: \n",
      "current shape = ()\n",
      "filling on, default _FillValue of -2147483647 used\n",
      "<class 'netCDF4._netCDF4.Variable'>\n",
      "int32 ibtype(nbou)\n",
      "    long_name: type of normal flow (discharge) boundary\n",
      "    units: nondimensional\n",
      "unlimited dimensions: \n",
      "current shape = (1,)\n",
      "filling on, default _FillValue of -2147483647 used\n",
      "<class 'netCDF4._netCDF4.Variable'>\n",
      "int32 nbvv(max_nvell, nbou)\n",
      "    long_name: node numbers on normal flow boundary segment\n",
      "    units: nondimensional\n",
      "unlimited dimensions: \n",
      "current shape = (570, 1)\n",
      "filling on, default _FillValue of -2147483647 used\n",
      "<class 'netCDF4._netCDF4.Variable'>\n",
      "float64 depth(node)\n",
      "    long_name: distance  below geoid\n",
      "    standard_name: depth below geoid\n",
      "    coordinates: time y x\n",
      "    location: node\n",
      "    mesh: adcirc_mesh\n",
      "    units: m\n",
      "unlimited dimensions: \n",
      "current shape = (3070,)\n",
      "filling on, default _FillValue of 9.969209968386869e+36 used\n",
      "<class 'netCDF4._netCDF4.Variable'>\n",
      "float64 zeta_max(node)\n",
      "    long_name: maximum water surface elevationabove geoid\n",
      "    standard_name: maximum_sea_surface_height_above_geoid\n",
      "    coordinates: y x\n",
      "    location: node\n",
      "    mesh: adcirc_mesh\n",
      "    units: m\n",
      "    _FillValue: -99999.0\n",
      "unlimited dimensions: \n",
      "current shape = (3070,)\n",
      "filling on\n",
      "<class 'netCDF4._netCDF4.Variable'>\n",
      "float64 time_of_zeta_max(node)\n",
      "    long_name: time of maximum water surface elevationabove geoid\n",
      "    standard_name: time_of_maximum_sea_surface_height_above_geoid\n",
      "    coordinates: y x\n",
      "    location: node\n",
      "    mesh: adcirc_mesh\n",
      "    units: sec\n",
      "    _FillValue: -99999.0\n",
      "unlimited dimensions: \n",
      "current shape = (3070,)\n",
      "filling on\n"
     ]
    }
   ],
   "source": [
    "# getting a list of all variable attributes (metadata) in the file\n",
    "# note, this does not print any data but just the attributes\n",
    "for attrs in mynetcdf.variables.values():\n",
    "   print(attrs)"
   ]
  },
  {
   "cell_type": "markdown",
   "metadata": {},
   "source": [
    "### Attributes of a specific variable\n"
   ]
  },
  {
   "cell_type": "markdown",
   "metadata": {},
   "source": [
    "If we are interested in a specific variable and want to explore the associated attributes, we can do so by calling the variable name."
   ]
  },
  {
   "cell_type": "code",
   "execution_count": 10,
   "metadata": {},
   "outputs": [
    {
     "name": "stdout",
     "output_type": "stream",
     "text": [
      "<class 'netCDF4._netCDF4.Variable'>\n",
      "float64 x(node)\n",
      "    long_name: longitude\n",
      "    standard_name: longitude\n",
      "    units: degrees_east\n",
      "    positive: east\n",
      "unlimited dimensions: \n",
      "current shape = (3070,)\n",
      "filling on, default _FillValue of 9.969209968386869e+36 used <class 'netCDF4._netCDF4.Variable'>\n",
      "float64 y(node)\n",
      "    long_name: latitude\n",
      "    standard_name: latitude\n",
      "    units: degrees_north\n",
      "    positive: north\n",
      "unlimited dimensions: \n",
      "current shape = (3070,)\n",
      "filling on, default _FillValue of 9.969209968386869e+36 used\n"
     ]
    }
   ],
   "source": [
    "# accessing the attributes (metadata) of the variable ’x’ (longitudes) and  the variable ’y’ (latitudes)\n",
    "print(mynetcdf.variables['x'], mynetcdf.variables['y'])"
   ]
  },
  {
   "cell_type": "markdown",
   "metadata": {},
   "source": [
    "## 3.4 - Dimensions attributes (metadata)"
   ]
  },
  {
   "cell_type": "markdown",
   "metadata": {},
   "source": [
    "### Understanding the dimension descriptions in NetCDF\n",
    "\n",
    "Dimensions are used to define the shape of variables in NetCDF. \n",
    "Every NetCDF dimension has both a size and a descriptive name. The size is either a positive integer or ‘unlimited’. Variables that are defined with an unlimited dimension can grow in length over time.\n",
    "In Part 3.1 - Dataset attributes (metadata), we have printed an overview of the NetCDF dataset attributes that also contains the description of the dimensions."
   ]
  },
  {
   "cell_type": "markdown",
   "metadata": {},
   "source": [
    "Every NetCDF dimension has both a size and a descriptive name. The size is either a positive integer or ‘unlimited’. Variables that are defined with an unlimited dimension can grow in length over time."
   ]
  },
  {
   "cell_type": "markdown",
   "metadata": {},
   "source": [
    "In Part 3.1 - Dataset attributes (metadata), we have printed an overview of the NetCDF dataset attributes that also contains the description of the dimensions."
   ]
  },
  {
   "cell_type": "code",
   "execution_count": 11,
   "metadata": {},
   "outputs": [
    {
     "name": "stdout",
     "output_type": "stream",
     "text": [
      "<class 'netCDF4._netCDF4.Dataset'>\n",
      "root group (NETCDF4_CLASSIC data model, file format HDF5):\n",
      "    _FillValue: -99999.0\n",
      "    model: ADCIRC\n",
      "    version: 51.52.29\n",
      "    grid_type: Triangular\n",
      "    description: Shinnecock Inlet V20051108               ! UPTO 32 CHARACTER ALPHANUMERIC RUN D\n",
      "    agrid: Shinacock Inlet Coarse Grid\n",
      "    title: adcirc.org netcdf examples project\n",
      "    institution: UNC CH Institute of Marine Sciences\n",
      "    source: adcirc.org examples page\n",
      "    history: based on Shinnecock Inlet but with netcdf output\n",
      "    references: http://adcirc.org/home/documentation/example-problems/shinnecock-inlet-ny-with-t\n",
      "    comments: netcdf4 format was used (fully compatible with hdf5)\n",
      "    host: adcirc.org\n",
      "    convention: CF\n",
      "    Conventions: UGRID-0.9.0\n",
      "    contact: cfulcher@email.unc.edu\n",
      "    creation_date: 2015-12-14  4:18:28 -05:00\n",
      "    modification_date: 2015-12-14  4:18:28 -05:00\n",
      "    fort.15: ==== Input File Parameters (below) ====\n",
      "    dt: 6.0\n",
      "    ihot: 0\n",
      "    ics: 2\n",
      "    nolibf: 2\n",
      "    nolifa: 2\n",
      "    nolica: 1\n",
      "    nolicat: 1\n",
      "    nwp: 0\n",
      "    ncor: 1\n",
      "    ntip: 1\n",
      "    nws: 0\n",
      "    nramp: 0\n",
      "    tau0: 0.005\n",
      "    statim: 0.0\n",
      "    reftim: 0.0\n",
      "    rnday: 5.0\n",
      "    dramp: 2.0\n",
      "    a00: 0.35\n",
      "    b00: 0.3\n",
      "    c00: 0.35\n",
      "    h0: 0.05\n",
      "    slam0: -72.43\n",
      "    sfea0: 40.66\n",
      "    cf: 0.0025\n",
      "    eslm: 5.0\n",
      "    cori: 0.0001\n",
      "    ntif: 5\n",
      "    nbfr: 5\n",
      "    dimensions(sizes): time(1), node(3070), nele(5780), nvertex(3), nope(1), max_nvdll(75), nbou(1), max_nvell(570), mesh(1)\n",
      "    variables(dimensions): float64 time(time), float64 x(node), float64 y(node), int32 element(nele, nvertex), int32 adcirc_mesh(mesh), int32 neta(), int32 nvdll(nope), int32 max_nvdll(), int32 ibtypee(nope), int32 nbdv(max_nvdll, nope), int32 nvel(), int32 nvell(nbou), int32 max_nvell(), int32 ibtype(nbou), int32 nbvv(max_nvell, nbou), float64 depth(node), float64 zeta_max(node), float64 time_of_zeta_max(node)\n",
      "    groups: \n"
     ]
    }
   ],
   "source": [
    "print(mynetcdf)"
   ]
  },
  {
   "cell_type": "markdown",
   "metadata": {},
   "source": [
    "There are two sections that describe the dimensions:\n",
    "- The **dimensions(sizes)** that define the sizes and assign names\n",
    "- The **variable(dimensions)** that explain what dimension(s) each variable is using\n"
   ]
  },
  {
   "cell_type": "markdown",
   "metadata": {},
   "source": [
    "Examples:\n",
    "- The variable `x` is defined as `x(node)` with `node(3070)`, meaning that the variable `x` is a one-dimensional array of 3070 values.\n",
    "- The variable `element` is defined as `element(nele, nvertex)` with `nele(5780)` and `nvertex(3)`, meaning that the variable `element` is a two-dimensional array with a size of “5780 by 3” values.\n",
    "\n",
    "In addition to the dimension size, the variables(dimensions) also provide the information of the data type, e.g. the array values of the ‘element’ variable are stored as an “Integer 32-bit data type”.\n"
   ]
  },
  {
   "cell_type": "markdown",
   "metadata": {},
   "source": [
    "### List of all dimensions (sizes) in the file\n"
   ]
  },
  {
   "cell_type": "markdown",
   "metadata": {},
   "source": [
    "When we print out a list of all dimensions that are stored in our NetCDF file, we will get the **“dimensions(sizes)”** that we can use to understand the definitions of the **“variables(dimensions)”** as explained in the example above."
   ]
  },
  {
   "cell_type": "code",
   "execution_count": 12,
   "metadata": {},
   "outputs": [
    {
     "name": "stdout",
     "output_type": "stream",
     "text": [
      "<class 'netCDF4._netCDF4.Dimension'> (unlimited): name = 'time', size = 1\n",
      "<class 'netCDF4._netCDF4.Dimension'>: name = 'node', size = 3070\n",
      "<class 'netCDF4._netCDF4.Dimension'>: name = 'nele', size = 5780\n",
      "<class 'netCDF4._netCDF4.Dimension'>: name = 'nvertex', size = 3\n",
      "<class 'netCDF4._netCDF4.Dimension'>: name = 'nope', size = 1\n",
      "<class 'netCDF4._netCDF4.Dimension'>: name = 'max_nvdll', size = 75\n",
      "<class 'netCDF4._netCDF4.Dimension'>: name = 'nbou', size = 1\n",
      "<class 'netCDF4._netCDF4.Dimension'>: name = 'max_nvell', size = 570\n",
      "<class 'netCDF4._netCDF4.Dimension'>: name = 'mesh', size = 1\n"
     ]
    }
   ],
   "source": [
    "# getting a list of all dimensions(size) dictionary's keys in the file\n",
    "for dims in mynetcdf.dimensions.values():\n",
    "   print(dims)"
   ]
  },
  {
   "cell_type": "markdown",
   "metadata": {},
   "source": [
    "This code is used to retrieve and print all dimension sizes from a netCDF file. The variable `mynetcdf` is our netCDF Dataset object.\n",
    "\n",
    "* In the line `for dims in mynetcdf.dimensions.values():`, `mynetcdf.dimensions` is a dictionary where each key-value pair corresponds to a dimension name and its associated size, respectively. The `.values()` method is a built-in Python function that returns a view object displaying a list of all the values in the dictionary.\n",
    "\n",
    "* The code `mynetcdf.dimensions.values()` will return all the dimension sizes in the netCDF file. The `for` loop then iterates over these sizes (each one assigned to the variable `dims` in each iteration), and the `print(dims)` statement inside the loop prints each dimension's size."
   ]
  },
  {
   "cell_type": "markdown",
   "metadata": {},
   "source": [
    "### Size of a specific dimension\n"
   ]
  },
  {
   "cell_type": "markdown",
   "metadata": {},
   "source": [
    "Getting the size of a particular dimension can be done similarly to accessing the **Attributes of a specific variable** by calling the dimension name."
   ]
  },
  {
   "cell_type": "code",
   "execution_count": 13,
   "metadata": {},
   "outputs": [
    {
     "name": "stdout",
     "output_type": "stream",
     "text": [
      "<class 'netCDF4._netCDF4.Dimension'>: name = 'node', size = 3070\n"
     ]
    }
   ],
   "source": [
    "# accessing the dimension of the variable ’x’ (longitudes)\n",
    "print(mynetcdf.dimensions['node'])\t"
   ]
  },
  {
   "cell_type": "markdown",
   "metadata": {},
   "source": [
    "Knowing the dimension sizes is great but\n",
    ">How do we know what dimensions our variables have in the NetCDF file?\n"
   ]
  },
  {
   "cell_type": "markdown",
   "metadata": {},
   "source": [
    "### Variable dimensions\n"
   ]
  },
  {
   "cell_type": "markdown",
   "metadata": {},
   "source": [
    "There are several options to explore the dimensions of variables in the file:\n",
    "\n"
   ]
  },
  {
   "cell_type": "markdown",
   "metadata": {},
   "source": [
    "- As explained in the example **Understanding the dimension descriptions in NetCDF**, we can print out the **Dataset attributes (metadata)** to get all variables(dimensions) definitions.\n"
   ]
  },
  {
   "cell_type": "code",
   "execution_count": 14,
   "metadata": {},
   "outputs": [
    {
     "name": "stdout",
     "output_type": "stream",
     "text": [
      "<class 'netCDF4._netCDF4.Dataset'>\n",
      "root group (NETCDF4_CLASSIC data model, file format HDF5):\n",
      "    _FillValue: -99999.0\n",
      "    model: ADCIRC\n",
      "    version: 51.52.29\n",
      "    grid_type: Triangular\n",
      "    description: Shinnecock Inlet V20051108               ! UPTO 32 CHARACTER ALPHANUMERIC RUN D\n",
      "    agrid: Shinacock Inlet Coarse Grid\n",
      "    title: adcirc.org netcdf examples project\n",
      "    institution: UNC CH Institute of Marine Sciences\n",
      "    source: adcirc.org examples page\n",
      "    history: based on Shinnecock Inlet but with netcdf output\n",
      "    references: http://adcirc.org/home/documentation/example-problems/shinnecock-inlet-ny-with-t\n",
      "    comments: netcdf4 format was used (fully compatible with hdf5)\n",
      "    host: adcirc.org\n",
      "    convention: CF\n",
      "    Conventions: UGRID-0.9.0\n",
      "    contact: cfulcher@email.unc.edu\n",
      "    creation_date: 2015-12-14  4:18:28 -05:00\n",
      "    modification_date: 2015-12-14  4:18:28 -05:00\n",
      "    fort.15: ==== Input File Parameters (below) ====\n",
      "    dt: 6.0\n",
      "    ihot: 0\n",
      "    ics: 2\n",
      "    nolibf: 2\n",
      "    nolifa: 2\n",
      "    nolica: 1\n",
      "    nolicat: 1\n",
      "    nwp: 0\n",
      "    ncor: 1\n",
      "    ntip: 1\n",
      "    nws: 0\n",
      "    nramp: 0\n",
      "    tau0: 0.005\n",
      "    statim: 0.0\n",
      "    reftim: 0.0\n",
      "    rnday: 5.0\n",
      "    dramp: 2.0\n",
      "    a00: 0.35\n",
      "    b00: 0.3\n",
      "    c00: 0.35\n",
      "    h0: 0.05\n",
      "    slam0: -72.43\n",
      "    sfea0: 40.66\n",
      "    cf: 0.0025\n",
      "    eslm: 5.0\n",
      "    cori: 0.0001\n",
      "    ntif: 5\n",
      "    nbfr: 5\n",
      "    dimensions(sizes): time(1), node(3070), nele(5780), nvertex(3), nope(1), max_nvdll(75), nbou(1), max_nvell(570), mesh(1)\n",
      "    variables(dimensions): float64 time(time), float64 x(node), float64 y(node), int32 element(nele, nvertex), int32 adcirc_mesh(mesh), int32 neta(), int32 nvdll(nope), int32 max_nvdll(), int32 ibtypee(nope), int32 nbdv(max_nvdll, nope), int32 nvel(), int32 nvell(nbou), int32 max_nvell(), int32 ibtype(nbou), int32 nbvv(max_nvell, nbou), float64 depth(node), float64 zeta_max(node), float64 time_of_zeta_max(node)\n",
      "    groups: \n"
     ]
    }
   ],
   "source": [
    "print(mynetcdf)"
   ]
  },
  {
   "cell_type": "markdown",
   "metadata": {},
   "source": [
    "- When printing the List of all variable attributes in the file or the Attributes of a specific variable, the attribute section also contains the information of the dimension of the particular variable.\n",
    "\n",
    "\n"
   ]
  },
  {
   "cell_type": "code",
   "execution_count": 15,
   "metadata": {},
   "outputs": [
    {
     "name": "stdout",
     "output_type": "stream",
     "text": [
      "<class 'netCDF4._netCDF4.Variable'>\n",
      "float64 time(time)\n",
      "    long_name: model time\n",
      "    standard_name: time\n",
      "    units: seconds since 2015-12-14 00:00:00 UTC\n",
      "    base_date: 2015-12-14 00:00:00 UTC\n",
      "unlimited dimensions: time\n",
      "current shape = (1,)\n",
      "filling on, default _FillValue of 9.969209968386869e+36 used\n",
      "<class 'netCDF4._netCDF4.Variable'>\n",
      "float64 x(node)\n",
      "    long_name: longitude\n",
      "    standard_name: longitude\n",
      "    units: degrees_east\n",
      "    positive: east\n",
      "unlimited dimensions: \n",
      "current shape = (3070,)\n",
      "filling on, default _FillValue of 9.969209968386869e+36 used\n",
      "<class 'netCDF4._netCDF4.Variable'>\n",
      "float64 y(node)\n",
      "    long_name: latitude\n",
      "    standard_name: latitude\n",
      "    units: degrees_north\n",
      "    positive: north\n",
      "unlimited dimensions: \n",
      "current shape = (3070,)\n",
      "filling on, default _FillValue of 9.969209968386869e+36 used\n",
      "<class 'netCDF4._netCDF4.Variable'>\n",
      "int32 element(nele, nvertex)\n",
      "    long_name: element\n",
      "    cf_role: face_node_connectivity\n",
      "    start_index: 1\n",
      "    units: nondimensional\n",
      "unlimited dimensions: \n",
      "current shape = (5780, 3)\n",
      "filling on, default _FillValue of -2147483647 used\n",
      "<class 'netCDF4._netCDF4.Variable'>\n",
      "int32 adcirc_mesh(mesh)\n",
      "    long_name: mesh_topology\n",
      "    cf_role: mesh_topology\n",
      "    topology_dimension: 2\n",
      "    node_coordinates: x y\n",
      "    face_node_connectivity: element\n",
      "unlimited dimensions: \n",
      "current shape = (1,)\n",
      "filling on, default _FillValue of -2147483647 used\n",
      "<class 'netCDF4._netCDF4.Variable'>\n",
      "int32 neta()\n",
      "    long_name: total number of elevation specified boundary nodes\n",
      "    units: nondimensional\n",
      "unlimited dimensions: \n",
      "current shape = ()\n",
      "filling on, default _FillValue of -2147483647 used\n",
      "<class 'netCDF4._netCDF4.Variable'>\n",
      "int32 nvdll(nope)\n",
      "    long_name: number of nodes in each elevation specified boundary segment\n",
      "    units: nondimensional\n",
      "unlimited dimensions: \n",
      "current shape = (1,)\n",
      "filling on, default _FillValue of -2147483647 used\n",
      "<class 'netCDF4._netCDF4.Variable'>\n",
      "int32 max_nvdll()\n",
      "unlimited dimensions: \n",
      "current shape = ()\n",
      "filling on, default _FillValue of -2147483647 used\n",
      "<class 'netCDF4._netCDF4.Variable'>\n",
      "int32 ibtypee(nope)\n",
      "    long_name: elevation boundary type\n",
      "    units: nondimensional\n",
      "unlimited dimensions: \n",
      "current shape = (1,)\n",
      "filling on, default _FillValue of -2147483647 used\n",
      "<class 'netCDF4._netCDF4.Variable'>\n",
      "int32 nbdv(max_nvdll, nope)\n",
      "    long_name: node numbers on each elevation specified boundary segment\n",
      "    units: nondimensional\n",
      "unlimited dimensions: \n",
      "current shape = (75, 1)\n",
      "filling on, default _FillValue of -2147483647 used\n",
      "<class 'netCDF4._netCDF4.Variable'>\n",
      "int32 nvel()\n",
      "    long_name: total number of normal flow specified boundary nodes including both the front and back nodes on internal barrier boundaries\n",
      "    units: nondimensional\n",
      "unlimited dimensions: \n",
      "current shape = ()\n",
      "filling on, default _FillValue of -2147483647 used\n",
      "<class 'netCDF4._netCDF4.Variable'>\n",
      "int32 nvell(nbou)\n",
      "    long_name: number of nodes in each normal flow specified boundary segment\n",
      "    units: nondimensional\n",
      "unlimited dimensions: \n",
      "current shape = (1,)\n",
      "filling on, default _FillValue of -2147483647 used\n",
      "<class 'netCDF4._netCDF4.Variable'>\n",
      "int32 max_nvell()\n",
      "unlimited dimensions: \n",
      "current shape = ()\n",
      "filling on, default _FillValue of -2147483647 used\n",
      "<class 'netCDF4._netCDF4.Variable'>\n",
      "int32 ibtype(nbou)\n",
      "    long_name: type of normal flow (discharge) boundary\n",
      "    units: nondimensional\n",
      "unlimited dimensions: \n",
      "current shape = (1,)\n",
      "filling on, default _FillValue of -2147483647 used\n",
      "<class 'netCDF4._netCDF4.Variable'>\n",
      "int32 nbvv(max_nvell, nbou)\n",
      "    long_name: node numbers on normal flow boundary segment\n",
      "    units: nondimensional\n",
      "unlimited dimensions: \n",
      "current shape = (570, 1)\n",
      "filling on, default _FillValue of -2147483647 used\n",
      "<class 'netCDF4._netCDF4.Variable'>\n",
      "float64 depth(node)\n",
      "    long_name: distance  below geoid\n",
      "    standard_name: depth below geoid\n",
      "    coordinates: time y x\n",
      "    location: node\n",
      "    mesh: adcirc_mesh\n",
      "    units: m\n",
      "unlimited dimensions: \n",
      "current shape = (3070,)\n",
      "filling on, default _FillValue of 9.969209968386869e+36 used\n",
      "<class 'netCDF4._netCDF4.Variable'>\n",
      "float64 zeta_max(node)\n",
      "    long_name: maximum water surface elevationabove geoid\n",
      "    standard_name: maximum_sea_surface_height_above_geoid\n",
      "    coordinates: y x\n",
      "    location: node\n",
      "    mesh: adcirc_mesh\n",
      "    units: m\n",
      "    _FillValue: -99999.0\n",
      "unlimited dimensions: \n",
      "current shape = (3070,)\n",
      "filling on\n",
      "<class 'netCDF4._netCDF4.Variable'>\n",
      "float64 time_of_zeta_max(node)\n",
      "    long_name: time of maximum water surface elevationabove geoid\n",
      "    standard_name: time_of_maximum_sea_surface_height_above_geoid\n",
      "    coordinates: y x\n",
      "    location: node\n",
      "    mesh: adcirc_mesh\n",
      "    units: sec\n",
      "    _FillValue: -99999.0\n",
      "unlimited dimensions: \n",
      "current shape = (3070,)\n",
      "filling on\n"
     ]
    }
   ],
   "source": [
    "for attrs in mynetcdf.variables.values():\n",
    "   print(attrs)"
   ]
  },
  {
   "cell_type": "code",
   "execution_count": 16,
   "metadata": {},
   "outputs": [
    {
     "name": "stdout",
     "output_type": "stream",
     "text": [
      "<class 'netCDF4._netCDF4.Variable'>\n",
      "float64 time(time)\n",
      "    long_name: model time\n",
      "    standard_name: time\n",
      "    units: seconds since 2015-12-14 00:00:00 UTC\n",
      "    base_date: 2015-12-14 00:00:00 UTC\n",
      "unlimited dimensions: time\n",
      "current shape = (1,)\n",
      "filling on, default _FillValue of 9.969209968386869e+36 used\n"
     ]
    }
   ],
   "source": [
    "print(mynetcdf.variables['time'])"
   ]
  },
  {
   "cell_type": "markdown",
   "metadata": {},
   "source": [
    "- Another option to get the dimension of a variable is utilizing the Python NumPy functionality ‘shape‘."
   ]
  },
  {
   "cell_type": "markdown",
   "metadata": {},
   "source": [
    "### Getting a variable dimension with the NumPy functionality ‘shape’\n"
   ]
  },
  {
   "cell_type": "markdown",
   "metadata": {},
   "source": [
    "#### Getting the dimension size"
   ]
  },
  {
   "cell_type": "code",
   "execution_count": 17,
   "metadata": {},
   "outputs": [
    {
     "name": "stdout",
     "output_type": "stream",
     "text": [
      "Array Dimension x =  (3070,)\n",
      "Array Dimension element =  (5780, 3)\n"
     ]
    }
   ],
   "source": [
    "# getting the variable dimension size with the NumPy functionality ’shape’\n",
    "print(\"Array Dimension x = \", (mynetcdf.variables['x'].shape) )\n",
    "print(\"Array Dimension element = \", (mynetcdf.variables['element'].shape))"
   ]
  },
  {
   "cell_type": "markdown",
   "metadata": {},
   "source": [
    "This code is used to retrieve and print the shape (dimension sizes) of two variables, 'x' and 'element', from a netCDF file. The variable `mynetcdf` is assumed to be a netCDF Dataset object.\n",
    "\n",
    "* In the line `print(\"Array Dimension x = \", (mynetcdf.variables['x'].shape))`, `mynetcdf.variables['x']` accesses the 'x' variable from the `variables` dictionary of the `mynetcdf` Dataset object. The `.shape` attribute is a tuple that gives the shape of the underlying data array, and is a functionality provided by NumPy (since the data in netCDF variables are stored as NumPy arrays). This line prints a string \"Array Dimension x = \" followed by the shape of the 'x' variable.\n",
    "* Similarly, the line `print(\"Array Dimension element = \", (mynetcdf.variables['element'].shape))` does the same for the 'element' variable.\n"
   ]
  },
  {
   "cell_type": "code",
   "execution_count": 18,
   "metadata": {},
   "outputs": [
    {
     "name": "stdout",
     "output_type": "stream",
     "text": [
      "Array Dimension time  =  (1,)\n",
      "Array Dimension x  =  (3070,)\n",
      "Array Dimension y  =  (3070,)\n",
      "Array Dimension element  =  (5780, 3)\n",
      "Array Dimension adcirc_mesh  =  (1,)\n",
      "Array Dimension neta  =  ()\n",
      "Array Dimension nvdll  =  (1,)\n",
      "Array Dimension max_nvdll  =  ()\n",
      "Array Dimension ibtypee  =  (1,)\n",
      "Array Dimension nbdv  =  (75, 1)\n",
      "Array Dimension nvel  =  ()\n",
      "Array Dimension nvell  =  (1,)\n",
      "Array Dimension max_nvell  =  ()\n",
      "Array Dimension ibtype  =  (1,)\n",
      "Array Dimension nbvv  =  (570, 1)\n",
      "Array Dimension depth  =  (3070,)\n",
      "Array Dimension zeta_max  =  (3070,)\n",
      "Array Dimension time_of_zeta_max  =  (3070,)\n"
     ]
    }
   ],
   "source": [
    "# Or even bettter if you want every variable size\n",
    "for dims in mynetcdf.variables:\n",
    "   #print (dims)\n",
    "   print(\"Array Dimension\", dims , \" = \", (mynetcdf.variables[dims].shape) )"
   ]
  },
  {
   "cell_type": "markdown",
   "metadata": {},
   "source": [
    "This code is used to retrieve and print the shape (dimension sizes) of all variables from a netCDF file. The variable `mynetcdf` is assumed to be a netCDF Dataset object.\n",
    "* In the line `for dims in mynetcdf.variables:`, `mynetcdf.variables` is a dictionary where each key-value pair corresponds to a variable name and its associated Variable object, respectively. The `for` loop iterates over all the variable names (each one assigned to the variable `dims` in each iteration).\n",
    "* Inside the loop, the line `print(\"Array Dimension\", dims , \" = \", (mynetcdf.variables[dims].shape))` prints a string \"Array Dimension\", followed by the variable name, an equals sign, and then the shape of the variable. Here, `mynetcdf.variables[dims]` accesses the Variable object for the current variable, and the `.shape` attribute gives the shape of the underlying data array. This attribute is a tuple that provides the size of each dimension of the variable's data."
   ]
  },
  {
   "cell_type": "markdown",
   "metadata": {},
   "source": [
    "# Part 4: Accessing the NetCDF Data Values"
   ]
  },
  {
   "cell_type": "markdown",
   "metadata": {},
   "source": [
    "## 4.1 - Parsing the data values from the NetCDF variables"
   ]
  },
  {
   "cell_type": "markdown",
   "metadata": {},
   "source": [
    "When reading in the NetCDF file with the Python NetCDF library, the data values (variables) are returned as NumPy arrays. "
   ]
  },
  {
   "cell_type": "markdown",
   "metadata": {},
   "source": [
    "When we want to access the actual data values of a particular NetCDF variable, we need to pass two parameters:\n",
    "- The **name** of the variable where the data is in\n",
    "- The information for the **array indexing to access** a specific value or a range of values\n",
    "\n"
   ]
  },
  {
   "cell_type": "markdown",
   "metadata": {},
   "source": [
    "\n",
    "### What is array indexing?\n"
   ]
  },
  {
   "cell_type": "markdown",
   "metadata": {},
   "source": [
    "Array indexing is the same as accessing an array element. \n",
    "- [:] always returns all available values of an array element\n",
    "- A specific variable value can be accessed by referring to its index number. The NumPy arrays are 0-indexed, meaning that the first element has the index 0.\n"
   ]
  },
  {
   "cell_type": "markdown",
   "metadata": {},
   "source": [
    "\n",
    "#### All data values of a variable\n",
    "\n",
    "\n",
    "one-dimensional data array\n"
   ]
  },
  {
   "cell_type": "code",
   "execution_count": 19,
   "metadata": {},
   "outputs": [
    {
     "name": "stdout",
     "output_type": "stream",
     "text": [
      "[-72.05767827 -72.05219374 -72.04696872 ... -72.585996   -72.586352\n",
      " -72.589697  ]\n",
      "number of values: 3070 \n"
     ]
    }
   ],
   "source": [
    "# getting all data values from an one-dimensional array\n",
    "x = mynetcdf.variables['x'][:]\n",
    "print(x)\n",
    "print(\"number of values: %s \" % len(x)) "
   ]
  },
  {
   "cell_type": "markdown",
   "metadata": {},
   "source": [
    "Retrieving all data values from a one-dimensional array named 'x' from a netCDF file. The variable `mynetcdf` is assumed to be a netCDF Dataset object.\n",
    "\n",
    "* In the line `x = mynetcdf.variables['x'][:]`, `mynetcdf.variables['x']` accesses the 'x' variable from the `variables` dictionary of the `mynetcdf` Dataset object. The `[:]` slice notation is used to retrieve all data values from the 'x' variable. The result is a one-dimensional NumPy array, which is assigned to the variable `x`.\n",
    "\n",
    "* The line `print(x)` then prints this array to the console. Depending on the size of the array and your Python environment's settings, this may print all values in the array, or it may print only the first few and last few values, with an ellipsis (...) indicating omitted values.\n",
    "\n",
    "* The line `print(\"number of values: %s \" % len(x))` prints the number of values in the 'x' array. The `len(x)` function returns the size of the array (i.e., the number of elements in it), and the `%s` placeholder in the string is replaced with this size."
   ]
  },
  {
   "cell_type": "markdown",
   "metadata": {},
   "source": [
    "For two-dimensional data array\n"
   ]
  },
  {
   "cell_type": "code",
   "execution_count": 20,
   "metadata": {},
   "outputs": [
    {
     "name": "stdout",
     "output_type": "stream",
     "text": [
      "[[  77   76    1]\n",
      " [  76    2    1]\n",
      " [  78    2   76]\n",
      " ...\n",
      " [3069 3065 3066]\n",
      " [3065 3069 3067]\n",
      " [3068 3067 3070]]\n"
     ]
    }
   ],
   "source": [
    "# getting all data values from a two-dimensional array\n",
    "elems = mynetcdf.variables['element'][:,:]\n",
    "print(elems)"
   ]
  },
  {
   "cell_type": "markdown",
   "metadata": {},
   "source": [
    "#### How do we know what syntax to use when accessing the data values?\n"
   ]
  },
  {
   "cell_type": "markdown",
   "metadata": {},
   "source": [
    "In order to parse out the data values correctly, we need to know the dimension of the variable we are interested in. We can get the dimension of a specific variable by either looking at the **Attributes of a specific dimension or Getting the dimension of a variable with the Python function 'shape'**.\n"
   ]
  },
  {
   "cell_type": "markdown",
   "metadata": {},
   "source": [
    "### Specific value of a variable\n"
   ]
  },
  {
   "cell_type": "markdown",
   "metadata": {},
   "source": [
    "Getting a specific value from a one-dimensional data array"
   ]
  },
  {
   "cell_type": "code",
   "execution_count": 21,
   "metadata": {},
   "outputs": [
    {
     "name": "stdout",
     "output_type": "stream",
     "text": [
      "-72.0576782709\n"
     ]
    }
   ],
   "source": [
    "# getting the first value from the ‘x’ data array\n",
    "x = mynetcdf.variables['x'][0] # NumPy arrays are 0-indexed\n",
    "print(x)"
   ]
  },
  {
   "cell_type": "markdown",
   "metadata": {},
   "source": [
    "* In the first line, a variable `x` is being assigned a value from a netCDF file. The `mynetcdf.variables['x'][0]` part of the code is accessing the 'x' variable from the netCDF file stored in `mynetcdf`. The 'x' variable in a netCDF file typically represents a dimension, such as time or spatial coordinates (latitude, longitude, etc.). The `[0]` after `variables['x']` is indexing into the 'x' data array to get the first value. This is because, like many other programming languages, Python uses 0-based indexing, meaning that the index of the first element in an array is 0, not 1.\n",
    "\n",
    "* The `print(x)` line is then outputting the value of `x` to the console. This is useful for debugging purposes or for simply understanding the data you're working with. If 'x' represents time, for example, this could be printing the first timestamp in the data set."
   ]
  },
  {
   "cell_type": "markdown",
   "metadata": {},
   "source": [
    "### Getting a specific value from a two-dimensional data array"
   ]
  },
  {
   "cell_type": "markdown",
   "metadata": {},
   "source": [
    "Example: getting the first entry of the second value (array of 3 numbers)\n"
   ]
  },
  {
   "cell_type": "code",
   "execution_count": 22,
   "metadata": {},
   "outputs": [
    {
     "name": "stdout",
     "output_type": "stream",
     "text": [
      "76\n"
     ]
    }
   ],
   "source": [
    "# getting the first entry of the second value from the ‘element’ data array\n",
    "# zero-indexed (second row, first column)\n",
    "elem = mynetcdf.variables['element'][1,0]\n",
    "print(elem) "
   ]
  },
  {
   "cell_type": "markdown",
   "metadata": {},
   "source": [
    "\n",
    "* The line `elem = mynetcdf.variables['element'][1,0]` is accessing the 'element' variable from the netCDF file stored in `mynetcdf`. The 'element' variable in a netCDF file could represent a variety of data types, such as temperature, pressure, or humidity values, depending on the specific dataset.\n",
    "\n",
    "* The `[1,0]` part of the code is indexing into the 'element' data array to get a specific value. In Python, arrays are 0-indexed, meaning that the index of the first element is 0, not 1. Therefore, `[1,0]` is referring to the second row (since 1 is the second index in a 0-indexed system) and the first column (since 0 is the first index in a 0-indexed system). So, this line of code is getting the first entry of the second value from the 'element' data array.\n",
    "\n",
    "* The `print(elem)` line is then outputting the value of `elem` to the console. This is useful for debugging purposes or for simply understanding the data you're working with. For example, if 'element' represents temperature, this could be printing the temperature value at a specific time and location in the dataset."
   ]
  },
  {
   "cell_type": "markdown",
   "metadata": {},
   "source": [
    "## 4.2 - Further work with NumPy\n"
   ]
  },
  {
   "cell_type": "markdown",
   "metadata": {},
   "source": [
    "When working with NetCDF variables, the data values are returned as NumPy arrays. The Python numerical mathematics extensions NumPy is a very powerful tool that opens up endless possibilities for further diving into data analysis. While we do not want to go into depth with that, here are two short examples for getting started."
   ]
  },
  {
   "cell_type": "markdown",
   "metadata": {},
   "source": [
    "### Getting a data range from a two-dimensional data array\n"
   ]
  },
  {
   "cell_type": "code",
   "execution_count": 23,
   "metadata": {},
   "outputs": [
    {
     "name": "stdout",
     "output_type": "stream",
     "text": [
      "[76  2]\n"
     ]
    }
   ],
   "source": [
    "# from the second row in the ‘element’ array, getting the first two entries \n",
    "elems = mynetcdf.variables['element'][1,0:2] #zero-indexed \n",
    "print(elems)"
   ]
  },
  {
   "cell_type": "markdown",
   "metadata": {},
   "source": [
    "* The second line is where the action happens. `mynetcdf.variables['element'][1,0:2]` is accessing the 'element' variable from the netCDF file stored in the `mynetcdf` object. The 'element' variable is  a two-dimensional array. The indices `[1,0:2]` are used to access data from this array.  In Python, arrays are zero-indexed, meaning that the index of the first element is 0, not 1. So, `[1,0:2]` is accessing the second row (since 1 is the second index in a zero-indexed system), and within that row, it's getting the first two entries (indices 0 and 1).\n",
    "\n",
    "* The result of this operation is stored in the variable `elems`.\n",
    "\n",
    "* The third line uses the `print` function to output the value of `elems` to the console. This is useful for debugging or for understanding the data you're working with, as it allows you to see the actual values that were retrieved from the 'element' array."
   ]
  },
  {
   "cell_type": "markdown",
   "metadata": {},
   "source": [
    "### Advanced filtering of data values\n"
   ]
  },
  {
   "cell_type": "code",
   "execution_count": 24,
   "metadata": {},
   "outputs": [
    {
     "name": "stdout",
     "output_type": "stream",
     "text": [
      "[  20   21   22 ... 2885 2886 2887]\n",
      "number of returned values: 1355 \n"
     ]
    }
   ],
   "source": [
    "z = mynetcdf.variables['zeta_max'][:]\n",
    "z_slice = np.intersect1d(np.where(np.array(z)<0.6),np.where(np.array(z)>0.5))                              \n",
    "print(z_slice)\n",
    "print(\"number of returned values: %s \" % len(z_slice))   "
   ]
  },
  {
   "cell_type": "markdown",
   "metadata": {},
   "source": [
    "\n",
    "* The command `z = mynetcdf.variables['zeta_max'][:]`, the code is accessing a variable named 'zeta_max' from the netCDF file and assigning all its values to the variable `z`. The `[:]` is a slicing operation that gets all elements from the 'zeta_max' variable.\n",
    "\n",
    "* After that, `z_slice = np.intersect1d(np.where(np.array(z)<0.6),np.where(np.array(z)>0.5))`, is using NumPy functions to create a new array `z_slice`. The `np.where` function returns the indices of elements in an input array where the specified condition is met. Here, it's used twice to find the indices of elements in `z` that are less than 0.6 and greater than 0.5. The `np.intersect1d` function then finds the intersection of these two arrays of indices, effectively returning the indices of elements in `z` that are between 0.5 and 0.6.\n",
    "\n",
    "* The third and fourth lines are simply printing the `z_slice` array and the number of elements in it. The `%s` in the print statement is a placeholder that gets replaced with the value of `len(z_slice)`, which is the number of elements in `z_slice`."
   ]
  }
 ],
 "metadata": {
  "kernelspec": {
   "display_name": ".venv",
   "language": "python",
   "name": "python3"
  },
  "language_info": {
   "codemirror_mode": {
    "name": "ipython",
    "version": 3
   },
   "file_extension": ".py",
   "mimetype": "text/x-python",
   "name": "python",
   "nbconvert_exporter": "python",
   "pygments_lexer": "ipython3",
   "version": "3.12.1"
  },
  "orig_nbformat": 4
 },
 "nbformat": 4,
 "nbformat_minor": 2
}
